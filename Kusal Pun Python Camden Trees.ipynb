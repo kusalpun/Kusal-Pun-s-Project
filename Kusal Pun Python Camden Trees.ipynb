{
 "cells": [
  {
   "cell_type": "code",
   "execution_count": 1,
   "id": "c2fcbb90",
   "metadata": {},
   "outputs": [
    {
     "name": "stdout",
     "output_type": "stream",
     "text": [
      "Requirement already satisfied: pandas in c:\\users\\kusal\\anaconda3\\lib\\site-packages (2.0.3)\n",
      "Requirement already satisfied: python-dateutil>=2.8.2 in c:\\users\\kusal\\anaconda3\\lib\\site-packages (from pandas) (2.8.2)\n",
      "Requirement already satisfied: pytz>=2020.1 in c:\\users\\kusal\\anaconda3\\lib\\site-packages (from pandas) (2023.3.post1)\n",
      "Requirement already satisfied: tzdata>=2022.1 in c:\\users\\kusal\\anaconda3\\lib\\site-packages (from pandas) (2023.3)\n",
      "Requirement already satisfied: numpy>=1.21.0 in c:\\users\\kusal\\anaconda3\\lib\\site-packages (from pandas) (1.24.3)\n",
      "Requirement already satisfied: six>=1.5 in c:\\users\\kusal\\anaconda3\\lib\\site-packages (from python-dateutil>=2.8.2->pandas) (1.16.0)\n"
     ]
    }
   ],
   "source": [
    "!pip install pandas\n",
    "import pandas as pd #Install package for Python\n",
    "import json         #Install JSON_PACKAGE in the system\n",
    "import matplotlib.pyplot as plt #Matlab_Plot  \n",
    "import seaborn as sns           #Seaborn is a package used for heatmaps/ plotting graphs"
   ]
  },
  {
   "cell_type": "code",
   "execution_count": 2,
   "id": "b7102cc8",
   "metadata": {},
   "outputs": [],
   "source": [
    "trees = pd.read_excel(\"C:\\Project\\camden_trees.xlsx\") #Using pandas to open the data frame for trees as an XLSX following the file path\n",
    "Environmental = pd.read_csv(\"C:\\Project\\camden_trees_environmental.CSV\") #Using pandas to open the data frame as a CSV file\n",
    "Common_and_Scientific_Names= pd.read_json(r\"C:\\Project\\tree_common_names.json\") #Using Pandas to open to JSON file"
   ]
  },
  {
   "cell_type": "code",
   "execution_count": 3,
   "id": "adfba584",
   "metadata": {},
   "outputs": [
    {
     "data": {
      "text/html": [
       "<div>\n",
       "<style scoped>\n",
       "    .dataframe tbody tr th:only-of-type {\n",
       "        vertical-align: middle;\n",
       "    }\n",
       "\n",
       "    .dataframe tbody tr th {\n",
       "        vertical-align: top;\n",
       "    }\n",
       "\n",
       "    .dataframe thead th {\n",
       "        text-align: right;\n",
       "    }\n",
       "</style>\n",
       "<table border=\"1\" class=\"dataframe\">\n",
       "  <thead>\n",
       "    <tr style=\"text-align: right;\">\n",
       "      <th></th>\n",
       "      <th>Identifier</th>\n",
       "      <th>Number Of Trees</th>\n",
       "      <th>Site Name</th>\n",
       "      <th>Contract Area</th>\n",
       "      <th>Scientific Name</th>\n",
       "      <th>Inspection Date</th>\n",
       "      <th>Inspection Due Date</th>\n",
       "      <th>Height In Metres</th>\n",
       "      <th>Spread In Metres</th>\n",
       "      <th>Diameter In Centimetres At Breast Height</th>\n",
       "      <th>Ward Code</th>\n",
       "      <th>Ward Name</th>\n",
       "      <th>Easting</th>\n",
       "      <th>Northing</th>\n",
       "      <th>Longitude</th>\n",
       "      <th>Latitude</th>\n",
       "      <th>Location</th>\n",
       "    </tr>\n",
       "  </thead>\n",
       "  <tbody>\n",
       "    <tr>\n",
       "      <th>0</th>\n",
       "      <td>00060053</td>\n",
       "      <td>1.0</td>\n",
       "      <td>Russell Nurseries Estate</td>\n",
       "      <td>Housing</td>\n",
       "      <td>Vacant Tree Pit</td>\n",
       "      <td>NaT</td>\n",
       "      <td>NaN</td>\n",
       "      <td>NaN</td>\n",
       "      <td>NaN</td>\n",
       "      <td>NaN</td>\n",
       "      <td>E05000135</td>\n",
       "      <td>Hampstead Town</td>\n",
       "      <td>527305</td>\n",
       "      <td>185240</td>\n",
       "      <td>-0.165240</td>\n",
       "      <td>51.551693</td>\n",
       "      <td>(51.551693, -0.16524)</td>\n",
       "    </tr>\n",
       "    <tr>\n",
       "      <th>1</th>\n",
       "      <td>00057855</td>\n",
       "      <td>1.0</td>\n",
       "      <td>BRECKNOCK JMI (E)</td>\n",
       "      <td>Education</td>\n",
       "      <td>Vacant Tree Pit</td>\n",
       "      <td>2019-07-17</td>\n",
       "      <td>2022/2023</td>\n",
       "      <td>NaN</td>\n",
       "      <td>NaN</td>\n",
       "      <td>NaN</td>\n",
       "      <td>E05000131</td>\n",
       "      <td>Cantelowes</td>\n",
       "      <td>529923</td>\n",
       "      <td>184782</td>\n",
       "      <td>-0.127681</td>\n",
       "      <td>51.546984</td>\n",
       "      <td>(51.546984, -0.127681)</td>\n",
       "    </tr>\n",
       "    <tr>\n",
       "      <th>2</th>\n",
       "      <td>00059953</td>\n",
       "      <td>1.0</td>\n",
       "      <td>Estate 51 Ravenshaw Street</td>\n",
       "      <td>Housing</td>\n",
       "      <td>Ficus carica</td>\n",
       "      <td>NaT</td>\n",
       "      <td>NaN</td>\n",
       "      <td>5.0</td>\n",
       "      <td>4.0</td>\n",
       "      <td>10.0</td>\n",
       "      <td>NaN</td>\n",
       "      <td>NaN</td>\n",
       "      <td>0</td>\n",
       "      <td>0</td>\n",
       "      <td>NaN</td>\n",
       "      <td>NaN</td>\n",
       "      <td>NaN</td>\n",
       "    </tr>\n",
       "    <tr>\n",
       "      <th>3</th>\n",
       "      <td>00059915</td>\n",
       "      <td>1.0</td>\n",
       "      <td>ROSARY RC JMI (E)</td>\n",
       "      <td>Education</td>\n",
       "      <td>Betula jacquemontii</td>\n",
       "      <td>NaT</td>\n",
       "      <td>NaN</td>\n",
       "      <td>4.0</td>\n",
       "      <td>1.0</td>\n",
       "      <td>6.0</td>\n",
       "      <td>E05000135</td>\n",
       "      <td>Hampstead Town</td>\n",
       "      <td>527249</td>\n",
       "      <td>185261</td>\n",
       "      <td>-0.166051</td>\n",
       "      <td>51.551901</td>\n",
       "      <td>(51.551901, -0.166051)</td>\n",
       "    </tr>\n",
       "    <tr>\n",
       "      <th>4</th>\n",
       "      <td>00010762</td>\n",
       "      <td>1.0</td>\n",
       "      <td>Holly Lodge Estate</td>\n",
       "      <td>Housing</td>\n",
       "      <td>Ilex x altaclarensis</td>\n",
       "      <td>2017-06-14</td>\n",
       "      <td>2020/2021</td>\n",
       "      <td>14.0</td>\n",
       "      <td>6.0</td>\n",
       "      <td>26.0</td>\n",
       "      <td>E05000137</td>\n",
       "      <td>Highgate</td>\n",
       "      <td>528414</td>\n",
       "      <td>186770</td>\n",
       "      <td>-0.148704</td>\n",
       "      <td>51.565198</td>\n",
       "      <td>(51.565198, -0.148704)</td>\n",
       "    </tr>\n",
       "  </tbody>\n",
       "</table>\n",
       "</div>"
      ],
      "text/plain": [
       "  Identifier  Number Of Trees                   Site Name Contract Area  \\\n",
       "0   00060053              1.0    Russell Nurseries Estate       Housing   \n",
       "1   00057855              1.0           BRECKNOCK JMI (E)     Education   \n",
       "2   00059953              1.0  Estate 51 Ravenshaw Street       Housing   \n",
       "3   00059915              1.0           ROSARY RC JMI (E)     Education   \n",
       "4   00010762              1.0          Holly Lodge Estate       Housing   \n",
       "\n",
       "        Scientific Name Inspection Date Inspection Due Date  Height In Metres  \\\n",
       "0       Vacant Tree Pit             NaT                 NaN               NaN   \n",
       "1       Vacant Tree Pit      2019-07-17           2022/2023               NaN   \n",
       "2          Ficus carica             NaT                 NaN               5.0   \n",
       "3   Betula jacquemontii             NaT                 NaN               4.0   \n",
       "4  Ilex x altaclarensis      2017-06-14           2020/2021              14.0   \n",
       "\n",
       "   Spread In Metres  Diameter In Centimetres At Breast Height  Ward Code  \\\n",
       "0               NaN                                       NaN  E05000135   \n",
       "1               NaN                                       NaN  E05000131   \n",
       "2               4.0                                      10.0        NaN   \n",
       "3               1.0                                       6.0  E05000135   \n",
       "4               6.0                                      26.0  E05000137   \n",
       "\n",
       "        Ward Name  Easting  Northing  Longitude   Latitude  \\\n",
       "0  Hampstead Town   527305    185240  -0.165240  51.551693   \n",
       "1      Cantelowes   529923    184782  -0.127681  51.546984   \n",
       "2             NaN        0         0        NaN        NaN   \n",
       "3  Hampstead Town   527249    185261  -0.166051  51.551901   \n",
       "4        Highgate   528414    186770  -0.148704  51.565198   \n",
       "\n",
       "                 Location  \n",
       "0   (51.551693, -0.16524)  \n",
       "1  (51.546984, -0.127681)  \n",
       "2                     NaN  \n",
       "3  (51.551901, -0.166051)  \n",
       "4  (51.565198, -0.148704)  "
      ]
     },
     "execution_count": 3,
     "metadata": {},
     "output_type": "execute_result"
    }
   ],
   "source": [
    "trees.head() #Summary of trees has extracted the top 5 rows\n",
    "#Shows Null values and 0"
   ]
  },
  {
   "cell_type": "code",
   "execution_count": 4,
   "id": "ad78db7c",
   "metadata": {},
   "outputs": [
    {
     "data": {
      "text/plain": [
       "(23444, 17)"
      ]
     },
     "execution_count": 4,
     "metadata": {},
     "output_type": "execute_result"
    }
   ],
   "source": [
    "trees.shape #Shows the number of rows and columns with 23,444 rows and 17 columns"
   ]
  },
  {
   "cell_type": "code",
   "execution_count": 5,
   "id": "dbd729b3",
   "metadata": {},
   "outputs": [
    {
     "data": {
      "text/plain": [
       "Index(['Identifier', 'Number Of Trees', 'Site Name', 'Contract Area',\n",
       "       'Scientific Name', 'Inspection Date', 'Inspection Due Date',\n",
       "       'Height In Metres', 'Spread In Metres',\n",
       "       'Diameter In Centimetres At Breast Height', 'Ward Code', 'Ward Name',\n",
       "       'Easting', 'Northing', 'Longitude', 'Latitude', 'Location'],\n",
       "      dtype='object')"
      ]
     },
     "execution_count": 5,
     "metadata": {},
     "output_type": "execute_result"
    }
   ],
   "source": [
    "trees.columns #Shows the number of columns with 17 and 'Identifier'"
   ]
  },
  {
   "cell_type": "code",
   "execution_count": 6,
   "id": "c455621b",
   "metadata": {},
   "outputs": [
    {
     "data": {
      "text/plain": [
       "Identifier                                          object\n",
       "Number Of Trees                                    float64\n",
       "Site Name                                           object\n",
       "Contract Area                                       object\n",
       "Scientific Name                                     object\n",
       "Inspection Date                             datetime64[ns]\n",
       "Inspection Due Date                                 object\n",
       "Height In Metres                                   float64\n",
       "Spread In Metres                                   float64\n",
       "Diameter In Centimetres At Breast Height           float64\n",
       "Ward Code                                           object\n",
       "Ward Name                                           object\n",
       "Easting                                              int64\n",
       "Northing                                             int64\n",
       "Longitude                                          float64\n",
       "Latitude                                           float64\n",
       "Location                                            object\n",
       "dtype: object"
      ]
     },
     "execution_count": 6,
     "metadata": {},
     "output_type": "execute_result"
    }
   ],
   "source": [
    "trees.dtypes # Shows the data types of the columns in the data frame\n",
    "#Object is the string value e.g Identifer, float is numerical integer that was whole.\n",
    "#Int64= \n",
    "#Identifer, Contract Area, Scientific Name, Inspection Due Date, Ward Code, Ward name = which is a string\n",
    "#Number of Trees\n",
    "#Datetime64 is the format of date and time\n"
   ]
  },
  {
   "cell_type": "code",
   "execution_count": 7,
   "id": "ef404002",
   "metadata": {},
   "outputs": [
    {
     "data": {
      "text/html": [
       "<div>\n",
       "<style scoped>\n",
       "    .dataframe tbody tr th:only-of-type {\n",
       "        vertical-align: middle;\n",
       "    }\n",
       "\n",
       "    .dataframe tbody tr th {\n",
       "        vertical-align: top;\n",
       "    }\n",
       "\n",
       "    .dataframe thead th {\n",
       "        text-align: right;\n",
       "    }\n",
       "</style>\n",
       "<table border=\"1\" class=\"dataframe\">\n",
       "  <thead>\n",
       "    <tr style=\"text-align: right;\">\n",
       "      <th></th>\n",
       "      <th>Identifier</th>\n",
       "      <th>Maturity</th>\n",
       "      <th>Physiological Condition</th>\n",
       "      <th>Tree Set To Be Removed</th>\n",
       "      <th>Removal Reason</th>\n",
       "      <th>Capital Asset Value For Amenity Trees</th>\n",
       "      <th>Carbon Storage In Kilograms</th>\n",
       "      <th>Gross Carbon Sequestration Per Year In Kilograms</th>\n",
       "      <th>Pollution Removal Per Year In Grams</th>\n",
       "    </tr>\n",
       "  </thead>\n",
       "  <tbody>\n",
       "    <tr>\n",
       "      <th>0</th>\n",
       "      <td>00055125</td>\n",
       "      <td>Juvenile</td>\n",
       "      <td>Good</td>\n",
       "      <td>No</td>\n",
       "      <td>NaN</td>\n",
       "      <td>115.07</td>\n",
       "      <td>1.6</td>\n",
       "      <td>0.5</td>\n",
       "      <td>5.7</td>\n",
       "    </tr>\n",
       "    <tr>\n",
       "      <th>1</th>\n",
       "      <td>00059429</td>\n",
       "      <td>Middle aged</td>\n",
       "      <td>Fair</td>\n",
       "      <td>No</td>\n",
       "      <td>NaN</td>\n",
       "      <td>7518.08</td>\n",
       "      <td>NaN</td>\n",
       "      <td>NaN</td>\n",
       "      <td>NaN</td>\n",
       "    </tr>\n",
       "    <tr>\n",
       "      <th>2</th>\n",
       "      <td>00018254</td>\n",
       "      <td>Mature</td>\n",
       "      <td>Fair</td>\n",
       "      <td>No</td>\n",
       "      <td>NaN</td>\n",
       "      <td>20419.63</td>\n",
       "      <td>426.4</td>\n",
       "      <td>8.8</td>\n",
       "      <td>215.2</td>\n",
       "    </tr>\n",
       "    <tr>\n",
       "      <th>3</th>\n",
       "      <td>00027155</td>\n",
       "      <td>Mature</td>\n",
       "      <td>Fair</td>\n",
       "      <td>No</td>\n",
       "      <td>NaN</td>\n",
       "      <td>21447.74</td>\n",
       "      <td>448.3</td>\n",
       "      <td>9.6</td>\n",
       "      <td>379.1</td>\n",
       "    </tr>\n",
       "    <tr>\n",
       "      <th>4</th>\n",
       "      <td>00041326</td>\n",
       "      <td>Juvenile</td>\n",
       "      <td>Good</td>\n",
       "      <td>No</td>\n",
       "      <td>NaN</td>\n",
       "      <td>524.30</td>\n",
       "      <td>9.9</td>\n",
       "      <td>1.4</td>\n",
       "      <td>12.8</td>\n",
       "    </tr>\n",
       "  </tbody>\n",
       "</table>\n",
       "</div>"
      ],
      "text/plain": [
       "  Identifier     Maturity Physiological Condition Tree Set To Be Removed  \\\n",
       "0   00055125     Juvenile                    Good                     No   \n",
       "1   00059429  Middle aged                    Fair                     No   \n",
       "2   00018254       Mature                    Fair                     No   \n",
       "3   00027155       Mature                    Fair                     No   \n",
       "4   00041326     Juvenile                    Good                     No   \n",
       "\n",
       "  Removal Reason  Capital Asset Value For Amenity Trees  \\\n",
       "0            NaN                                 115.07   \n",
       "1            NaN                                7518.08   \n",
       "2            NaN                               20419.63   \n",
       "3            NaN                               21447.74   \n",
       "4            NaN                                 524.30   \n",
       "\n",
       "   Carbon Storage In Kilograms  \\\n",
       "0                          1.6   \n",
       "1                          NaN   \n",
       "2                        426.4   \n",
       "3                        448.3   \n",
       "4                          9.9   \n",
       "\n",
       "   Gross Carbon Sequestration Per Year In Kilograms  \\\n",
       "0                                               0.5   \n",
       "1                                               NaN   \n",
       "2                                               8.8   \n",
       "3                                               9.6   \n",
       "4                                               1.4   \n",
       "\n",
       "   Pollution Removal Per Year In Grams  \n",
       "0                                  5.7  \n",
       "1                                  NaN  \n",
       "2                                215.2  \n",
       "3                                379.1  \n",
       "4                                 12.8  "
      ]
     },
     "execution_count": 7,
     "metadata": {},
     "output_type": "execute_result"
    }
   ],
   "source": [
    "#Environmental\n",
    "Environmental.head() #Shows the 5 rows and columns \n",
    "#Quantitative aspects of Capital Asset Values for Amentity of Trees, but contains null values\n"
   ]
  },
  {
   "cell_type": "code",
   "execution_count": 8,
   "id": "bb63e824",
   "metadata": {},
   "outputs": [
    {
     "data": {
      "text/plain": [
       "(23415, 9)"
      ]
     },
     "execution_count": 8,
     "metadata": {},
     "output_type": "execute_result"
    }
   ],
   "source": [
    "Environmental.shape #Number of rows at 23,415 and 9 columns"
   ]
  },
  {
   "cell_type": "code",
   "execution_count": 9,
   "id": "362fc3f0",
   "metadata": {},
   "outputs": [
    {
     "data": {
      "text/plain": [
       "Index(['Identifier', 'Maturity', 'Physiological Condition',\n",
       "       'Tree Set To Be Removed', 'Removal Reason',\n",
       "       'Capital Asset Value For Amenity Trees', 'Carbon Storage In Kilograms',\n",
       "       'Gross Carbon Sequestration Per Year In Kilograms',\n",
       "       'Pollution Removal Per Year In Grams'],\n",
       "      dtype='object')"
      ]
     },
     "execution_count": 9,
     "metadata": {},
     "output_type": "execute_result"
    }
   ],
   "source": [
    "Environmental.columns #Shows the number of 9 columns that are shown"
   ]
  },
  {
   "cell_type": "code",
   "execution_count": 10,
   "id": "4c952b22",
   "metadata": {},
   "outputs": [
    {
     "data": {
      "text/plain": [
       "Identifier                                           object\n",
       "Maturity                                             object\n",
       "Physiological Condition                              object\n",
       "Tree Set To Be Removed                               object\n",
       "Removal Reason                                       object\n",
       "Capital Asset Value For Amenity Trees               float64\n",
       "Carbon Storage In Kilograms                         float64\n",
       "Gross Carbon Sequestration Per Year In Kilograms    float64\n",
       "Pollution Removal Per Year In Grams                 float64\n",
       "dtype: object"
      ]
     },
     "execution_count": 10,
     "metadata": {},
     "output_type": "execute_result"
    }
   ],
   "source": [
    "Environmental.dtypes # shows the data types for the 9 columns\n",
    "\n",
    "#Identifier is an object made up of string, same with maturity, Psychological Condition, Tree Set to be Removed, Removal Reason\n",
    "#Capital Asset Value for Amentity Carbon Storage, Gross Carbon Seqestration Per Year In Kilograms, Pollution Removal Per year = Numerical Quantitiative values"
   ]
  },
  {
   "cell_type": "code",
   "execution_count": 11,
   "id": "f7c94fab",
   "metadata": {},
   "outputs": [
    {
     "data": {
      "text/html": [
       "<div>\n",
       "<style scoped>\n",
       "    .dataframe tbody tr th:only-of-type {\n",
       "        vertical-align: middle;\n",
       "    }\n",
       "\n",
       "    .dataframe tbody tr th {\n",
       "        vertical-align: top;\n",
       "    }\n",
       "\n",
       "    .dataframe thead th {\n",
       "        text-align: right;\n",
       "    }\n",
       "</style>\n",
       "<table border=\"1\" class=\"dataframe\">\n",
       "  <thead>\n",
       "    <tr style=\"text-align: right;\">\n",
       "      <th></th>\n",
       "      <th>Scientific Name</th>\n",
       "      <th>Common Name</th>\n",
       "    </tr>\n",
       "  </thead>\n",
       "  <tbody>\n",
       "    <tr>\n",
       "      <th>0</th>\n",
       "      <td>Carpinus betulus Lucas</td>\n",
       "      <td>Hornbeam - European</td>\n",
       "    </tr>\n",
       "    <tr>\n",
       "      <th>1</th>\n",
       "      <td>Prunus 'Pandora'</td>\n",
       "      <td>Cherry - Ornamental</td>\n",
       "    </tr>\n",
       "    <tr>\n",
       "      <th>2</th>\n",
       "      <td>Tilia unidentified species</td>\n",
       "      <td>Lime</td>\n",
       "    </tr>\n",
       "    <tr>\n",
       "      <th>3</th>\n",
       "      <td>Rosa unidentified species</td>\n",
       "      <td>None</td>\n",
       "    </tr>\n",
       "    <tr>\n",
       "      <th>4</th>\n",
       "      <td>Cedrus libani</td>\n",
       "      <td>Cedar of Lebanon</td>\n",
       "    </tr>\n",
       "  </tbody>\n",
       "</table>\n",
       "</div>"
      ],
      "text/plain": [
       "              Scientific Name          Common Name\n",
       "0      Carpinus betulus Lucas  Hornbeam - European\n",
       "1            Prunus 'Pandora'  Cherry - Ornamental\n",
       "2  Tilia unidentified species                 Lime\n",
       "3   Rosa unidentified species                 None\n",
       "4               Cedrus libani     Cedar of Lebanon"
      ]
     },
     "execution_count": 11,
     "metadata": {},
     "output_type": "execute_result"
    }
   ],
   "source": [
    "Common_and_Scientific_Names.head() #Shows the 5 rows and 2 colummns \n",
    "#5 columns and the Common Name"
   ]
  },
  {
   "cell_type": "code",
   "execution_count": 12,
   "id": "e0f8a907",
   "metadata": {},
   "outputs": [
    {
     "data": {
      "text/plain": [
       "(589, 2)"
      ]
     },
     "execution_count": 12,
     "metadata": {},
     "output_type": "execute_result"
    }
   ],
   "source": [
    "Common_and_Scientific_Names.shape #589 rows and 2 columns are contained which is less"
   ]
  },
  {
   "cell_type": "code",
   "execution_count": 13,
   "id": "60afe083",
   "metadata": {},
   "outputs": [
    {
     "data": {
      "text/plain": [
       "Index(['Scientific Name', 'Common Name'], dtype='object')"
      ]
     },
     "execution_count": 13,
     "metadata": {},
     "output_type": "execute_result"
    }
   ],
   "source": [
    "Common_and_Scientific_Names.columns #The two column names which are Scientific and Common name contains string"
   ]
  },
  {
   "cell_type": "code",
   "execution_count": 14,
   "id": "90493b7b",
   "metadata": {},
   "outputs": [
    {
     "data": {
      "text/plain": [
       "Scientific Name    object\n",
       "Common Name        object\n",
       "dtype: object"
      ]
     },
     "execution_count": 14,
     "metadata": {},
     "output_type": "execute_result"
    }
   ],
   "source": [
    "Common_and_Scientific_Names.dtypes #String that is shown for Scientific name/ object"
   ]
  },
  {
   "cell_type": "code",
   "execution_count": 15,
   "id": "83092223",
   "metadata": {},
   "outputs": [
    {
     "data": {
      "text/plain": [
       "Site Name\n",
       "WATERLOW PARK (LS)                         920\n",
       "Alexandra & Ainsworth Estate               289\n",
       "Belsize nature reserve, Russell Nursery    278\n",
       "Holly Lodge Estate                         272\n",
       "LINCOLN'S INN FIELDS, GARDENS (LS)         193\n",
       "                                          ... \n",
       "GOLDINGTON CRESCENT                          1\n",
       "ALLCROFT ROAD                                1\n",
       "WOBURN WALK, LAND BEHIND 4-18                1\n",
       "KILBURN PRIORY                               1\n",
       "GOODGE PLACE                                 1\n",
       "Name: count, Length: 1135, dtype: int64"
      ]
     },
     "execution_count": 15,
     "metadata": {},
     "output_type": "execute_result"
    }
   ],
   "source": [
    "#Task 3\n",
    "#Site name is an object qualitative data type that is nominal\n",
    "#Highest count of site names is in WATERLOW PARK and then Alexandra\n",
    "\n",
    "trees[\"Site Name\"].value_counts() #Some are ordinal/ describe for each of the cells/ Qualitative Nominal- each of the value counts"
   ]
  },
  {
   "cell_type": "code",
   "execution_count": 16,
   "id": "d0540076",
   "metadata": {},
   "outputs": [
    {
     "data": {
      "text/plain": [
       "Contract Area\n",
       "Highways              10062\n",
       "Housing                7500\n",
       "Parks                  4330\n",
       "Education              1288\n",
       "Corporate Landlord      264\n",
       "Name: count, dtype: int64"
      ]
     },
     "execution_count": 16,
     "metadata": {},
     "output_type": "execute_result"
    }
   ],
   "source": [
    "#Nominal data type and has the highest. Highways is the highest and housing with less in corporate landlord\n",
    "trees[\"Contract Area\"].value_counts()"
   ]
  },
  {
   "cell_type": "code",
   "execution_count": 17,
   "id": "ae2e2abe",
   "metadata": {},
   "outputs": [
    {
     "data": {
      "text/plain": [
       "Ward Name\n",
       "Highgate                          2799\n",
       "St Pancras and Somers Town        1832\n",
       "Gospel Oak                        1541\n",
       "Kilburn                           1540\n",
       "Kentish Town                      1463\n",
       "Haverstock                        1424\n",
       "Hampstead Town                    1340\n",
       "Holborn and Covent Garden         1293\n",
       "Fortune Green                     1284\n",
       "Cantelowes                        1231\n",
       "Frognal and Fitzjohns             1229\n",
       "Bloomsbury                        1008\n",
       "Regent's Park                      989\n",
       "Swiss Cottage                      978\n",
       "Camden Town with Primrose Hill     899\n",
       "West Hampstead                     853\n",
       "King's Cross                       824\n",
       "Belsize                            691\n",
       "Name: count, dtype: int64"
      ]
     },
     "execution_count": 17,
     "metadata": {},
     "output_type": "execute_result"
    }
   ],
   "source": [
    "#Nominal data as this is a caetorgy of area with highggate having the most count and Belsize with the lowest\n",
    "trees[\"Ward Name\"].value_counts()"
   ]
  },
  {
   "cell_type": "code",
   "execution_count": 18,
   "id": "7d2a905b",
   "metadata": {},
   "outputs": [
    {
     "data": {
      "text/plain": [
       "Inspection Due Date\n",
       "2022/2023    7921\n",
       "2021/2022    7353\n",
       "2020/2021    6577\n",
       "2019/2020    1157\n",
       "2018/2019      16\n",
       "2017/2018       5\n",
       "2016/2017       4\n",
       "2001/2002       4\n",
       "2003/2004       2\n",
       "2006/2007       1\n",
       "2012/2013       1\n",
       "2013/2014       1\n",
       "2011/2012       1\n",
       "Name: count, dtype: int64"
      ]
     },
     "execution_count": 18,
     "metadata": {},
     "output_type": "execute_result"
    }
   ],
   "source": [
    "trees[\"Inspection Due Date\"].value_counts() #Ordinal data is ranked with most found in 2022/2023 and the least found in 2011/2012\n",
    "#From this data more inspections due to regulations"
   ]
  },
  {
   "cell_type": "code",
   "execution_count": 21,
   "id": "1af7800d",
   "metadata": {},
   "outputs": [
    {
     "data": {
      "text/html": [
       "<div>\n",
       "<style scoped>\n",
       "    .dataframe tbody tr th:only-of-type {\n",
       "        vertical-align: middle;\n",
       "    }\n",
       "\n",
       "    .dataframe tbody tr th {\n",
       "        vertical-align: top;\n",
       "    }\n",
       "\n",
       "    .dataframe thead th {\n",
       "        text-align: right;\n",
       "    }\n",
       "</style>\n",
       "<table border=\"1\" class=\"dataframe\">\n",
       "  <thead>\n",
       "    <tr style=\"text-align: right;\">\n",
       "      <th></th>\n",
       "      <th>Number Of Trees</th>\n",
       "      <th>Inspection Date</th>\n",
       "      <th>Height In Metres</th>\n",
       "      <th>Spread In Metres</th>\n",
       "      <th>Diameter In Centimetres At Breast Height</th>\n",
       "      <th>Easting</th>\n",
       "      <th>Northing</th>\n",
       "      <th>Longitude</th>\n",
       "      <th>Latitude</th>\n",
       "    </tr>\n",
       "  </thead>\n",
       "  <tbody>\n",
       "    <tr>\n",
       "      <th>count</th>\n",
       "      <td>23422.000000</td>\n",
       "      <td>23043</td>\n",
       "      <td>23006.000000</td>\n",
       "      <td>23006.000000</td>\n",
       "      <td>23005.000000</td>\n",
       "      <td>23444.000000</td>\n",
       "      <td>23444.000000</td>\n",
       "      <td>23388.000000</td>\n",
       "      <td>23388.000000</td>\n",
       "    </tr>\n",
       "    <tr>\n",
       "      <th>mean</th>\n",
       "      <td>1.100034</td>\n",
       "      <td>2018-07-16 11:54:05.671136512</td>\n",
       "      <td>10.307029</td>\n",
       "      <td>5.997612</td>\n",
       "      <td>32.595262</td>\n",
       "      <td>526762.518171</td>\n",
       "      <td>184085.188662</td>\n",
       "      <td>-0.155145</td>\n",
       "      <td>51.545115</td>\n",
       "    </tr>\n",
       "    <tr>\n",
       "      <th>min</th>\n",
       "      <td>0.000000</td>\n",
       "      <td>1999-01-16 00:00:00</td>\n",
       "      <td>0.000000</td>\n",
       "      <td>0.000000</td>\n",
       "      <td>0.000000</td>\n",
       "      <td>0.000000</td>\n",
       "      <td>0.000000</td>\n",
       "      <td>-0.261719</td>\n",
       "      <td>51.512858</td>\n",
       "    </tr>\n",
       "    <tr>\n",
       "      <th>25%</th>\n",
       "      <td>1.000000</td>\n",
       "      <td>2017-08-17 00:00:00</td>\n",
       "      <td>5.000000</td>\n",
       "      <td>3.000000</td>\n",
       "      <td>12.000000</td>\n",
       "      <td>526583.750000</td>\n",
       "      <td>183665.000000</td>\n",
       "      <td>-0.175734</td>\n",
       "      <td>51.537472</td>\n",
       "    </tr>\n",
       "    <tr>\n",
       "      <th>50%</th>\n",
       "      <td>1.000000</td>\n",
       "      <td>2018-07-26 00:00:00</td>\n",
       "      <td>9.000000</td>\n",
       "      <td>5.000000</td>\n",
       "      <td>27.000000</td>\n",
       "      <td>528456.500000</td>\n",
       "      <td>184690.000000</td>\n",
       "      <td>-0.148478</td>\n",
       "      <td>51.546669</td>\n",
       "    </tr>\n",
       "    <tr>\n",
       "      <th>75%</th>\n",
       "      <td>1.000000</td>\n",
       "      <td>2019-05-20 00:00:00</td>\n",
       "      <td>15.000000</td>\n",
       "      <td>8.000000</td>\n",
       "      <td>46.000000</td>\n",
       "      <td>529369.000000</td>\n",
       "      <td>185481.000000</td>\n",
       "      <td>-0.135978</td>\n",
       "      <td>51.554032</td>\n",
       "    </tr>\n",
       "    <tr>\n",
       "      <th>max</th>\n",
       "      <td>67.000000</td>\n",
       "      <td>2020-03-01 00:00:00</td>\n",
       "      <td>127.000000</td>\n",
       "      <td>88.000000</td>\n",
       "      <td>228.000000</td>\n",
       "      <td>531514.000000</td>\n",
       "      <td>196188.000000</td>\n",
       "      <td>-0.105858</td>\n",
       "      <td>51.650843</td>\n",
       "    </tr>\n",
       "    <tr>\n",
       "      <th>std</th>\n",
       "      <td>1.288041</td>\n",
       "      <td>NaN</td>\n",
       "      <td>6.325293</td>\n",
       "      <td>4.132379</td>\n",
       "      <td>26.149994</td>\n",
       "      <td>25835.857212</td>\n",
       "      <td>9121.059755</td>\n",
       "      <td>0.025058</td>\n",
       "      <td>0.013067</td>\n",
       "    </tr>\n",
       "  </tbody>\n",
       "</table>\n",
       "</div>"
      ],
      "text/plain": [
       "       Number Of Trees                Inspection Date  Height In Metres  \\\n",
       "count     23422.000000                          23043      23006.000000   \n",
       "mean          1.100034  2018-07-16 11:54:05.671136512         10.307029   \n",
       "min           0.000000            1999-01-16 00:00:00          0.000000   \n",
       "25%           1.000000            2017-08-17 00:00:00          5.000000   \n",
       "50%           1.000000            2018-07-26 00:00:00          9.000000   \n",
       "75%           1.000000            2019-05-20 00:00:00         15.000000   \n",
       "max          67.000000            2020-03-01 00:00:00        127.000000   \n",
       "std           1.288041                            NaN          6.325293   \n",
       "\n",
       "       Spread In Metres  Diameter In Centimetres At Breast Height  \\\n",
       "count      23006.000000                              23005.000000   \n",
       "mean           5.997612                                 32.595262   \n",
       "min            0.000000                                  0.000000   \n",
       "25%            3.000000                                 12.000000   \n",
       "50%            5.000000                                 27.000000   \n",
       "75%            8.000000                                 46.000000   \n",
       "max           88.000000                                228.000000   \n",
       "std            4.132379                                 26.149994   \n",
       "\n",
       "             Easting       Northing     Longitude      Latitude  \n",
       "count   23444.000000   23444.000000  23388.000000  23388.000000  \n",
       "mean   526762.518171  184085.188662     -0.155145     51.545115  \n",
       "min         0.000000       0.000000     -0.261719     51.512858  \n",
       "25%    526583.750000  183665.000000     -0.175734     51.537472  \n",
       "50%    528456.500000  184690.000000     -0.148478     51.546669  \n",
       "75%    529369.000000  185481.000000     -0.135978     51.554032  \n",
       "max    531514.000000  196188.000000     -0.105858     51.650843  \n",
       "std     25835.857212    9121.059755      0.025058      0.013067  "
      ]
     },
     "execution_count": 21,
     "metadata": {},
     "output_type": "execute_result"
    }
   ],
   "source": [
    "trees.describe() #Gives an overview of the quantitative data for floats/ integers\n",
    "#Contains some missing values NA\n",
    "#Highest number of count trees and lowest in spread in Metres\n",
    "\n",
    "#Average is 1.1 for Number of Trees, \n",
    "#Height in Metres is 10.30\n",
    "#Diameter in Cm at Breast Height is 23005\n",
    "\n",
    "#continious data type for height in metres, Diameters in breast, Easting, Northing,Longitude, Latitude\n",
    "#Number of trees as they are counts = discrete whole numbers\n"
   ]
  },
  {
   "cell_type": "code",
   "execution_count": 41,
   "id": "516a3e52",
   "metadata": {},
   "outputs": [
    {
     "data": {
      "text/plain": [
       "array(['00060053', '00057855', '00059953', ..., '00001693', '00020342',\n",
       "       '00013369'], dtype=object)"
      ]
     },
     "execution_count": 41,
     "metadata": {},
     "output_type": "execute_result"
    }
   ],
   "source": [
    "#This shows if there are nulls or integers for the numerical float values\n",
    "#Gives the rows\n",
    "trees.Identifier.unique()\n",
    "#Finds the number of unique values "
   ]
  },
  {
   "cell_type": "code",
   "execution_count": 1,
   "id": "a0eecac5",
   "metadata": {},
   "outputs": [
    {
     "ename": "NameError",
     "evalue": "name 'trees' is not defined",
     "output_type": "error",
     "traceback": [
      "\u001b[1;31m---------------------------------------------------------------------------\u001b[0m",
      "\u001b[1;31mNameError\u001b[0m                                 Traceback (most recent call last)",
      "Cell \u001b[1;32mIn[1], line 1\u001b[0m\n\u001b[1;32m----> 1\u001b[0m trees\u001b[38;5;241m.\u001b[39munique()\n",
      "\u001b[1;31mNameError\u001b[0m: name 'trees' is not defined"
     ]
    }
   ],
   "source": [
    "trees.unique() \n",
    "#This shows if there are nulls or integers for the numerical float values\n",
    "#Shows the data type is integer"
   ]
  },
  {
   "cell_type": "code",
   "execution_count": 43,
   "id": "49f2d510",
   "metadata": {},
   "outputs": [
    {
     "data": {
      "text/plain": [
       "array([ 1.,  2.,  3.,  0., nan,  5.,  6.,  7., 18.,  8., 65.,  4., 10.,\n",
       "        9., 11., 50., 12., 15., 52., 40., 33., 13., 20., 67., 21., 32.,\n",
       "       24., 26., 16., 25., 51.])"
      ]
     },
     "execution_count": 43,
     "metadata": {},
     "output_type": "execute_result"
    }
   ],
   "source": [
    "#Finding floats, Ints with nulls\n",
    "trees[\"Number Of Trees\"].unique() #Shows there is null and NA's in the rows\n",
    "\n",
    "#Numbers are whole therefore discrete in data as count"
   ]
  },
  {
   "cell_type": "code",
   "execution_count": 44,
   "id": "ef1094b0",
   "metadata": {},
   "outputs": [
    {
     "data": {
      "text/plain": [
       "array([  nan,   5. ,   4. ,  14. ,   9. ,   0. ,   2. ,   2.5,   8. ,\n",
       "        13. ,  17. ,  10. ,   3. ,  19. ,   7. ,   6. ,   1.8,  15. ,\n",
       "        12. ,   1.5,  16. ,  20. ,  21. ,  24. ,  25. ,   2.7,  18. ,\n",
       "        11. ,  26. ,  22. ,   0.5,  16.1,  27. ,  28. ,   2.3,  22.3,\n",
       "        38. ,  15.5,  29. ,  23. ,  34. ,   3.5,   2.6,   1. ,   5.5,\n",
       "        22.5,   2.2,  36. ,  31. ,  96. ,  13.6, 127. ,  14.7,   4.5,\n",
       "        30. ,  35. ,  32. ,   9.4,  11.8,  33. ,  40. ,   2.1,   6.5,\n",
       "        41. ,  23.1,  37. ,  39. ,  12.5,   7.5,  13.7,  31.6,  23.8,\n",
       "         0.2,  12.3,  15.7,   6.8,   9.3,   3.8,  24.9,  17.4,   2.8,\n",
       "         3.2,  13.9,  12.4,  10.2,  10.8,  24.5,  30.4,   9.8,  11.4,\n",
       "        23.4,   3.7,  11.6,   7.7,   8.3,   3.6,  17.5,  19.5])"
      ]
     },
     "execution_count": 44,
     "metadata": {},
     "output_type": "execute_result"
    }
   ],
   "source": [
    "trees[\"Height In Metres\"].unique() # Contains NA's and decimals\n",
    "#it is a continious data type"
   ]
  },
  {
   "cell_type": "code",
   "execution_count": 45,
   "id": "a0e3ccaf",
   "metadata": {},
   "outputs": [
    {
     "data": {
      "text/plain": [
       "array([  nan,  4.  ,  1.  ,  6.  ,  7.  ,  0.  ,  1.5 ,  5.  ,  9.  ,\n",
       "       10.  ,  3.  ,  2.  , 13.  ,  2.5 , 12.  , 15.  , 14.  ,  8.  ,\n",
       "       11.  ,  0.6 ,  1.8 , 17.  , 20.  , 18.  , 16.  , 22.  , 19.  ,\n",
       "        5.5 , 26.  ,  1.4 , 23.  , 21.  , 28.  ,  1.2 ,  0.5 ,  3.5 ,\n",
       "       24.  ,  1.3 ,  1.6 , 30.  ,  1.7 , 27.  ,  4.2 , 11.02,  0.7 ,\n",
       "        6.5 ,  4.5 , 31.  , 25.  ,  0.8 ,  0.3 ,  2.2 ,  2.8 ,  1.65,\n",
       "       29.  , 88.  ])"
      ]
     },
     "execution_count": 45,
     "metadata": {},
     "output_type": "execute_result"
    }
   ],
   "source": [
    "trees[\"Spread In Metres\"].unique() #Contains Na's and is continious\n",
    "#data type shown"
   ]
  },
  {
   "cell_type": "code",
   "execution_count": 46,
   "id": "299e6751",
   "metadata": {},
   "outputs": [
    {
     "data": {
      "text/plain": [
       "array([  nan,  10. ,   6. ,  26. ,  29. ,   5. ,   0. ,   4. ,  12. ,\n",
       "        59. ,  52. ,  23. ,  50. ,  63. ,  15. ,   3. ,  49. ,  42. ,\n",
       "        14. ,  19. ,   9. ,  70. ,  32. ,  28. ,  34. ,  20. ,  17. ,\n",
       "        27. ,  37. ,   8. ,  45. ,  18. , 119. ,   7. ,  38. ,  55. ,\n",
       "        41. ,  75. ,  31. ,  25. ,  11. ,  30. ,  43. ,  68. ,  92. ,\n",
       "        16. ,  35. ,  58. ,  72. ,  64. ,  13. ,  61. ,  69. ,  33. ,\n",
       "        47. ,  67. , 109. , 106. ,  24. ,  51. ,  40. ,  22. ,  60. ,\n",
       "        39. ,  46. ,  57. ,  21. ,  54. , 117. ,  44. ,  82. , 114. ,\n",
       "        65. ,  84. , 118. ,   1. ,  89. ,  53. ,  36. ,  93. ,  88. ,\n",
       "        86. , 163. ,  66. ,  81. ,  74. , 100. ,  48. ,  73. ,  95. ,\n",
       "       129. ,  62. ,  85. ,  56. ,   3.5, 161. ,  71. , 105. , 102. ,\n",
       "        80. ,  87. , 101. ,  76. , 113. , 108. , 160. , 132. ,  90. ,\n",
       "       145. , 130. ,  79. , 228. , 110. ,  83. ,  78. , 122. , 170. ,\n",
       "       115. ,   2. ,  77. , 107. ,  96. , 126. ,  91. , 104. , 158. ,\n",
       "        99. ,  94. ,  16.5, 127. , 151. , 103. , 112. ,  98. ,  97. ,\n",
       "       136. , 125. , 111. , 124. , 139. , 156. , 120. , 148. , 144. ,\n",
       "       140. , 121. , 143. ,  17.5, 154. , 159. , 142. , 197. , 123. ,\n",
       "       149. , 155. , 191. , 131. , 147. , 162. , 116. , 152. , 153. ,\n",
       "       165. , 137. , 200. , 177. , 133. , 128. , 134. ,  11.5, 135. ,\n",
       "       150. , 187. , 210. , 166. , 138. ,  10.5, 206. , 141. , 209. ,\n",
       "       184. , 173. , 192. ,   7.5, 194. , 157. , 146. , 185. ])"
      ]
     },
     "execution_count": 46,
     "metadata": {},
     "output_type": "execute_result"
    }
   ],
   "source": [
    "trees[\"Diameter In Centimetres At Breast Height\"].unique()\n",
    "#Contains na's and is continious in data type"
   ]
  },
  {
   "cell_type": "code",
   "execution_count": 48,
   "id": "1d974693",
   "metadata": {},
   "outputs": [
    {
     "data": {
      "text/plain": [
       "Maturity\n",
       "Mature            10225\n",
       "Middle aged        7779\n",
       "Juvenile           4393\n",
       "Not Applicable      377\n",
       "Over Mature         191\n",
       "Veteran              41\n",
       "Name: count, dtype: int64"
      ]
     },
     "execution_count": 48,
     "metadata": {},
     "output_type": "execute_result"
    }
   ],
   "source": [
    "#3.2a\n",
    "Environmental[\"Maturity\"].value_counts() #Ordinal data type based on ranking\n",
    "\n",
    "#Large number of mature trees at 10225 and least number as veteran 41\n"
   ]
  },
  {
   "cell_type": "code",
   "execution_count": 49,
   "id": "404714cd",
   "metadata": {},
   "outputs": [
    {
     "data": {
      "text/plain": [
       "Physiological Condition\n",
       "Good              12910\n",
       "Fair               9183\n",
       "Poor                357\n",
       "Not applicable      249\n",
       "Dead                236\n",
       "Excellent             8\n",
       "Name: count, dtype: int64"
      ]
     },
     "execution_count": 49,
     "metadata": {},
     "output_type": "execute_result"
    }
   ],
   "source": [
    "Environmental[\"Physiological Condition\"].value_counts()\n",
    "\n",
    "#Ordinal data type as based on the trees condition\n",
    "#Most are in good contition, some inconclusive and 236 are dead"
   ]
  },
  {
   "cell_type": "code",
   "execution_count": 52,
   "id": "c68d7814",
   "metadata": {},
   "outputs": [
    {
     "data": {
      "text/plain": [
       "Tree Set To Be Removed\n",
       "No     23331\n",
       "Yes       84\n",
       "Name: count, dtype: int64"
      ]
     },
     "execution_count": 52,
     "metadata": {},
     "output_type": "execute_result"
    }
   ],
   "source": [
    "Environmental[\"Tree Set To Be Removed\"].value_counts()\n",
    "\n",
    "#Binary data type as there is two types of responses for yes and no\n",
    "\n",
    "#Large amount 23,331 trees are not removed and 84 to be removed\n"
   ]
  },
  {
   "cell_type": "code",
   "execution_count": 51,
   "id": "d88d642e",
   "metadata": {},
   "outputs": [
    {
     "data": {
      "text/plain": [
       "Removal Reason\n",
       "Dead, dying                    30\n",
       "Basal decay                    17\n",
       "Trunk decay                    10\n",
       "Tree defect                     5\n",
       "Crown die-back                  5\n",
       "Dog damage                      3\n",
       "Unsuitable location             3\n",
       "Newly planted tree failure      2\n",
       "Coppiced stump                  1\n",
       "Touching building/structure     1\n",
       "Crown decay                     1\n",
       "Split trunk                     1\n",
       "Broken/split branch             1\n",
       "Climber                         1\n",
       "No defects - work required      1\n",
       "Suppressed                      1\n",
       "ATRD                            1\n",
       "Name: count, dtype: int64"
      ]
     },
     "execution_count": 51,
     "metadata": {},
     "output_type": "execute_result"
    }
   ],
   "source": [
    "Environmental[\"Removal Reason\"].value_counts()\n",
    "\n",
    "#Ordinal data type for reason of removal as it's a response \n",
    "#30 are dead or dying and a large amount due to basal decay"
   ]
  },
  {
   "cell_type": "code",
   "execution_count": 59,
   "id": "cac2e11a",
   "metadata": {},
   "outputs": [
    {
     "data": {
      "text/html": [
       "<div>\n",
       "<style scoped>\n",
       "    .dataframe tbody tr th:only-of-type {\n",
       "        vertical-align: middle;\n",
       "    }\n",
       "\n",
       "    .dataframe tbody tr th {\n",
       "        vertical-align: top;\n",
       "    }\n",
       "\n",
       "    .dataframe thead th {\n",
       "        text-align: right;\n",
       "    }\n",
       "</style>\n",
       "<table border=\"1\" class=\"dataframe\">\n",
       "  <thead>\n",
       "    <tr style=\"text-align: right;\">\n",
       "      <th></th>\n",
       "      <th>Capital Asset Value For Amenity Trees</th>\n",
       "      <th>Carbon Storage In Kilograms</th>\n",
       "      <th>Gross Carbon Sequestration Per Year In Kilograms</th>\n",
       "      <th>Pollution Removal Per Year In Grams</th>\n",
       "    </tr>\n",
       "  </thead>\n",
       "  <tbody>\n",
       "    <tr>\n",
       "      <th>count</th>\n",
       "      <td>22982.000000</td>\n",
       "      <td>20555.000000</td>\n",
       "      <td>20555.000000</td>\n",
       "      <td>20555.000000</td>\n",
       "    </tr>\n",
       "    <tr>\n",
       "      <th>mean</th>\n",
       "      <td>14056.393047</td>\n",
       "      <td>467.465454</td>\n",
       "      <td>8.675057</td>\n",
       "      <td>217.740316</td>\n",
       "    </tr>\n",
       "    <tr>\n",
       "      <th>std</th>\n",
       "      <td>24803.806595</td>\n",
       "      <td>844.926555</td>\n",
       "      <td>8.681446</td>\n",
       "      <td>306.751920</td>\n",
       "    </tr>\n",
       "    <tr>\n",
       "      <th>min</th>\n",
       "      <td>0.000000</td>\n",
       "      <td>0.500000</td>\n",
       "      <td>0.000000</td>\n",
       "      <td>0.300000</td>\n",
       "    </tr>\n",
       "    <tr>\n",
       "      <th>25%</th>\n",
       "      <td>1035.650000</td>\n",
       "      <td>24.800000</td>\n",
       "      <td>2.200000</td>\n",
       "      <td>29.300000</td>\n",
       "    </tr>\n",
       "    <tr>\n",
       "      <th>50%</th>\n",
       "      <td>5443.660000</td>\n",
       "      <td>163.900000</td>\n",
       "      <td>6.100000</td>\n",
       "      <td>108.100000</td>\n",
       "    </tr>\n",
       "    <tr>\n",
       "      <th>75%</th>\n",
       "      <td>16781.420000</td>\n",
       "      <td>497.300000</td>\n",
       "      <td>11.700000</td>\n",
       "      <td>297.600000</td>\n",
       "    </tr>\n",
       "    <tr>\n",
       "      <th>max</th>\n",
       "      <td>504725.720000</td>\n",
       "      <td>6000.000000</td>\n",
       "      <td>53.800000</td>\n",
       "      <td>8223.700000</td>\n",
       "    </tr>\n",
       "  </tbody>\n",
       "</table>\n",
       "</div>"
      ],
      "text/plain": [
       "       Capital Asset Value For Amenity Trees  Carbon Storage In Kilograms  \\\n",
       "count                           22982.000000                 20555.000000   \n",
       "mean                            14056.393047                   467.465454   \n",
       "std                             24803.806595                   844.926555   \n",
       "min                                 0.000000                     0.500000   \n",
       "25%                              1035.650000                    24.800000   \n",
       "50%                              5443.660000                   163.900000   \n",
       "75%                             16781.420000                   497.300000   \n",
       "max                            504725.720000                  6000.000000   \n",
       "\n",
       "       Gross Carbon Sequestration Per Year In Kilograms  \\\n",
       "count                                      20555.000000   \n",
       "mean                                           8.675057   \n",
       "std                                            8.681446   \n",
       "min                                            0.000000   \n",
       "25%                                            2.200000   \n",
       "50%                                            6.100000   \n",
       "75%                                           11.700000   \n",
       "max                                           53.800000   \n",
       "\n",
       "       Pollution Removal Per Year In Grams  \n",
       "count                         20555.000000  \n",
       "mean                            217.740316  \n",
       "std                             306.751920  \n",
       "min                               0.300000  \n",
       "25%                              29.300000  \n",
       "50%                             108.100000  \n",
       "75%                             297.600000  \n",
       "max                            8223.700000  "
      ]
     },
     "execution_count": 59,
     "metadata": {},
     "output_type": "execute_result"
    }
   ],
   "source": [
    "# 3.2.b\n",
    "\n",
    "Environmental.describe()\n",
    "\n",
    "#Mean is high for the Capital Asset Value for Amenity Trees compared to Carbon Storage\n",
    "#Maximum value at Capital Asset Vale for Amenitiy Trees at 50,000\n",
    "#Average Carbon Storage in KG found at 467.46 \n",
    "#Gross carbon sequestration per KG same as count lowest standard deviation\n"
   ]
  },
  {
   "cell_type": "code",
   "execution_count": 60,
   "id": "3651bd08",
   "metadata": {},
   "outputs": [
    {
     "data": {
      "text/plain": [
       "array([1.1507000e+02, 7.5180800e+03, 2.0419630e+04, ..., 3.3664130e+04,\n",
       "       3.6269450e+04, 1.4801215e+05])"
      ]
     },
     "execution_count": 60,
     "metadata": {},
     "output_type": "execute_result"
    }
   ],
   "source": [
    "Environmental[\"Capital Asset Value For Amenity Trees\"].unique()\n",
    "#Continious data value\n",
    "\n"
   ]
  },
  {
   "cell_type": "code",
   "execution_count": 54,
   "id": "1ef2cedd",
   "metadata": {},
   "outputs": [
    {
     "data": {
      "text/plain": [
       "array([1.6000e+00,        nan, 4.2640e+02, ..., 4.7233e+03, 3.7305e+03,\n",
       "       4.8100e+02])"
      ]
     },
     "execution_count": 54,
     "metadata": {},
     "output_type": "execute_result"
    }
   ],
   "source": [
    "Environmental[\"Carbon Storage In Kilograms\"].unique()\n",
    "\n",
    "#Continious data value"
   ]
  },
  {
   "cell_type": "code",
   "execution_count": 55,
   "id": "b1ce1ec8",
   "metadata": {},
   "outputs": [
    {
     "data": {
      "text/plain": [
       "array([ 0.5,  nan,  8.8,  9.6,  1.4, 10.1,  0.8,  7.9, 24.2,  2.4,  0.9,\n",
       "        3. , 14.6,  8.1,  4.1,  1.8, 18.8, 24.4, 13.4,  4.3,  6.5,  1.3,\n",
       "        0.6,  2.5, 13.1,  2.1,  3.9, 15.9,  1. ,  6.6,  0.4,  3.4,  2.9,\n",
       "       28.7,  0.7,  1.5, 12.5, 25.4, 11.2,  9. , 23.9,  4.4, 11.5, 11. ,\n",
       "        8.4, 10.9, 10.7,  6.9,  7. ,  3.8,  3.2,  6.1,  8.6, 30.2,  3.7,\n",
       "       15. , 30.4,  7.6, 20.1, 10.2,  8.3, 39.9,  0.3,  4.9, 14.3, 13.5,\n",
       "       16.7,  8.9,  1.6,  4.2,  3.6,  4. ,  6.7,  0.1, 19.7, 24.6,  6.4,\n",
       "        5.4,  5.9, 12.2,  7.3, 13. ,  7.1, 36.9,  9.3, 18.2, 10. ,  4.7,\n",
       "        5. , 29.8, 17.8, 18.5, 17.6,  7.2,  4.8,  5.6,  5.3, 10.5, 12.9,\n",
       "        9.4,  7.8,  1.1, 19.2, 37.3,  2.7, 12.8, 17. , 15.5, 27.6, 34.2,\n",
       "        5.7,  5.8, 17.3, 20.4,  9.9, 15.6,  7.4, 11.8,  9.2,  2.6, 21.7,\n",
       "       11.3, 10.8, 29.4, 23.1, 26.5,  1.2, 10.6, 33.6, 23.6, 11.7, 17.4,\n",
       "       15.1, 16.6,  2.3, 13.3, 16.3, 18.3, 10.4, 19. ,  1.7,  3.3, 14.1,\n",
       "        5.5, 12.6, 14.5,  3.5,  8.7, 36.6, 17.7,  5.1, 21.1, 20.2,  7.7,\n",
       "       15.2,  7.5, 30.5, 13.8,  4.6, 39.2, 37.8, 13.2, 51. , 11.6,  6.8,\n",
       "       21. ,  5.2,  8. ,  4.5, 15.3, 13.7, 18. ,  6.3,  2. ,  2.8,  9.1,\n",
       "        6. , 12.4, 11.4, 18.6,  1.9, 23.5, 18.9, 26.2, 12.1, 41.7,  2.2,\n",
       "       14.7, 14.4,  9.7, 23. , 22.1, 15.7, 12. , 14.8, 19.9, 29.7, 11.1,\n",
       "       19.6, 12.7, 31.9, 33.2, 19.1,  6.2, 28.4, 27. , 17.5, 16.4, 27.7,\n",
       "       38.4, 43.9, 35.4,  8.2, 37.1, 29.5, 22.2, 17.1, 26.3, 21.2, 20.5,\n",
       "       11.9, 31.3, 14.2,  8.5, 26.8,  0.2, 16.8, 35.6, 20.8, 22.3, 19.4,\n",
       "       20. , 14. , 36.1, 20.9, 15.8, 14.9,  9.5, 28.3, 16.9,  3.1, 37.6,\n",
       "       34.7, 17.9, 35.3,  9.8, 16.5, 21.4, 19.3, 28.5, 29. , 33.5, 40.7,\n",
       "       28.6, 13.6, 27.1, 26.7, 13.9, 21.3, 23.8, 35.1, 40.5, 32.9, 18.1,\n",
       "       37. , 20.6, 35.2, 12.3, 41.8, 22.7, 21.5, 35.7, 32.4, 16.1, 31.1,\n",
       "       25.3, 26. , 23.4, 30.1, 42.1, 36.5, 10.3, 44.3, 16. , 23.2, 28.8,\n",
       "       21.9, 32. , 30.3, 15.4, 24.3, 26.9, 25.8, 28.2, 22.8, 42.3, 33.9,\n",
       "       25.6, 38.6, 18.4, 31.2, 32.7, 28. , 30.6, 42. , 27.3, 33.8, 21.6,\n",
       "       33.3, 35.9, 24. , 40.6, 42.7, 31.5, 22.5, 20.7, 33.1, 35.5, 27.5,\n",
       "       24.8, 26.4, 22.6, 18.7, 32.6, 36.4, 16.2, 38.5, 22.4, 22.9, 29.2,\n",
       "       25.9, 19.5, 24.5, 20.3, 27.9, 29.6, 25. , 27.4, 30.7, 25.1, 34.6,\n",
       "       38. , 34.4, 36.7, 34.1, 32.5, 27.8, 32.8, 43.1, 17.2, 37.5, 39.3,\n",
       "       29.1, 30.8, 34.8, 29.9, 38.3, 23.3, 21.8, 41.3, 38.7, 36.3, 30. ,\n",
       "       41.5, 37.2, 24.9, 19.8, 28.9, 42.2, 39.5, 31.8, 37.4, 24.1,  0. ,\n",
       "       37.7, 32.3, 36.8, 27.2, 24.7, 36.2, 39.7, 42.9, 49.5, 31.6, 38.9,\n",
       "       40.9, 44.2, 32.1, 42.5, 25.7, 35.8, 38.2, 40.8, 35. , 34. , 31.7,\n",
       "       40.1, 26.1, 25.2, 39. , 41.1, 33.4, 32.2, 43.3, 33.7, 26.6, 39.1,\n",
       "       41.4, 43.2, 31. , 41.9, 41. , 42.4, 43. , 40.3, 40.2, 29.3, 31.4,\n",
       "       22. , 42.8, 43.7, 23.7, 34.5, 41.6, 39.6, 39.8, 37.9, 43.8, 42.6,\n",
       "       41.2, 43.6, 36. , 39.4, 43.5, 25.5, 38.1, 34.9, 28.1, 43.4, 53.8,\n",
       "       30.9, 40.4, 34.3, 45.5, 52.7, 40. , 38.8, 44.9, 33. ])"
      ]
     },
     "execution_count": 55,
     "metadata": {},
     "output_type": "execute_result"
    }
   ],
   "source": [
    "Environmental[\"Gross Carbon Sequestration Per Year In Kilograms\"].unique()\n",
    "\n",
    "#Has NA's and continious in data value"
   ]
  },
  {
   "cell_type": "code",
   "execution_count": 56,
   "id": "10db4407",
   "metadata": {},
   "outputs": [
    {
     "data": {
      "text/plain": [
       "array([  5.7,   nan, 215.2, ...,   8. , 399.9,  60.1])"
      ]
     },
     "execution_count": 56,
     "metadata": {},
     "output_type": "execute_result"
    }
   ],
   "source": [
    "Environmental[\"Pollution Removal Per Year In Grams\"].unique()\n",
    "#NA's missing with continious data"
   ]
  },
  {
   "cell_type": "code",
   "execution_count": 61,
   "id": "a430e1af",
   "metadata": {},
   "outputs": [
    {
     "data": {
      "text/plain": [
       "Scientific Name\n",
       "Cupressocyparis leylandii                             2\n",
       "Larix decidua                                         2\n",
       "Salix fragilis                                        2\n",
       "Alnus cordata                                         2\n",
       "Populus nigra                                         2\n",
       "                                                     ..\n",
       "Pyrus salicifolia 'Pendula'                           1\n",
       "Chamaecyparis lawsoniana 'unid                        1\n",
       "Platanus x hispanica Tremonia                         1\n",
       "Vacant Tree Pit (planned: Gymnocladus dioicus)        1\n",
       "Vacant Tree Pit (planned: Liquidambar styraciflua)    1\n",
       "Name: count, Length: 560, dtype: int64"
      ]
     },
     "execution_count": 61,
     "metadata": {},
     "output_type": "execute_result"
    }
   ],
   "source": [
    "Common_and_Scientific_Names[\"Scientific Name\"].value_counts()\n",
    "\n",
    "#Nominal values which are qualitative and based on category\n",
    "#More Larix,alnus, Populus and Cupressocyparis\n"
   ]
  },
  {
   "cell_type": "code",
   "execution_count": 62,
   "id": "9339e2e0",
   "metadata": {},
   "outputs": [
    {
     "data": {
      "text/plain": [
       "Common Name\n",
       "Cherry                         12\n",
       "Rowan                          10\n",
       "Magnolia                       10\n",
       "Vacant Tree Pit (planned: )    10\n",
       "Apple - Crab                    9\n",
       "                               ..\n",
       "Pittosporum                     1\n",
       "Birch - Purple                  1\n",
       "Maple - Column Norway           1\n",
       "Maple - Crimson King Norway     1\n",
       "Castlewellan gold               1\n",
       "Name: count, Length: 431, dtype: int64"
      ]
     },
     "execution_count": 62,
     "metadata": {},
     "output_type": "execute_result"
    }
   ],
   "source": [
    "Common_and_Scientific_Names[\"Common Name\"].value_counts() \n",
    "#Nominal as they are category and not ranked\n",
    "#Highest in cherry and lowest number is Birch"
   ]
  },
  {
   "cell_type": "code",
   "execution_count": 3,
   "id": "062b6459",
   "metadata": {},
   "outputs": [
    {
     "ename": "NameError",
     "evalue": "name 'Common_and_Scientific_Names' is not defined",
     "output_type": "error",
     "traceback": [
      "\u001b[1;31m---------------------------------------------------------------------------\u001b[0m",
      "\u001b[1;31mNameError\u001b[0m                                 Traceback (most recent call last)",
      "Cell \u001b[1;32mIn[3], line 1\u001b[0m\n\u001b[1;32m----> 1\u001b[0m Common_and_Scientific_Names\u001b[38;5;241m.\u001b[39mnunique()\n",
      "\u001b[1;31mNameError\u001b[0m: name 'Common_and_Scientific_Names' is not defined"
     ]
    }
   ],
   "source": [
    "Common_and_Scientific_Names.nunique()\n",
    "\n"
   ]
  },
  {
   "cell_type": "code",
   "execution_count": 71,
   "id": "8f0b481a",
   "metadata": {},
   "outputs": [
    {
     "data": {
      "text/plain": [
       "Identifier                                  0.000000\n",
       "Number Of Trees                             0.093841\n",
       "Site Name                                   0.000000\n",
       "Contract Area                               0.000000\n",
       "Scientific Name                             0.000000\n",
       "Inspection Date                             1.710459\n",
       "Inspection Due Date                         1.710459\n",
       "Height In Metres                            1.868282\n",
       "Spread In Metres                            1.868282\n",
       "Diameter In Centimetres At Breast Height    1.872547\n",
       "Ward Code                                   0.963999\n",
       "Ward Name                                   0.963999\n",
       "Easting                                     0.000000\n",
       "Northing                                    0.000000\n",
       "Longitude                                   0.238867\n",
       "Latitude                                    0.238867\n",
       "Location                                    0.238867\n",
       "dtype: float64"
      ]
     },
     "execution_count": 71,
     "metadata": {},
     "output_type": "execute_result"
    }
   ],
   "source": [
    "#Task 4 \n",
    "\n",
    "# Percentage of null values\n",
    "trees.isnull().mean()*100\n",
    "\n",
    "#Shows the percentage of the null values with 9.3% at number of Trees\n",
    "#Inspection Date 171% and height in metres and diamteter has a lot of null values\n"
   ]
  },
  {
   "cell_type": "code",
   "execution_count": 72,
   "id": "fcf62915",
   "metadata": {},
   "outputs": [
    {
     "data": {
      "text/plain": [
       "Identifier                                    0\n",
       "Number Of Trees                              22\n",
       "Site Name                                     0\n",
       "Contract Area                                 0\n",
       "Scientific Name                               0\n",
       "Inspection Date                             401\n",
       "Inspection Due Date                         401\n",
       "Height In Metres                            438\n",
       "Spread In Metres                            438\n",
       "Diameter In Centimetres At Breast Height    439\n",
       "Ward Code                                   226\n",
       "Ward Name                                   226\n",
       "Easting                                       0\n",
       "Northing                                      0\n",
       "Longitude                                    56\n",
       "Latitude                                     56\n",
       "Location                                     56\n",
       "dtype: int64"
      ]
     },
     "execution_count": 72,
     "metadata": {},
     "output_type": "execute_result"
    }
   ],
   "source": [
    "# Number of null values\n",
    "trees.isnull().sum() # Inspection date, Height in Metres, Ward name is incomplete\n",
    "#Shows the total number of trees that are null with the highest at Height in metres\n",
    "#Diameter in Cm at breast height \n",
    "#Number of trees is one of the lowest as null populated"
   ]
  },
  {
   "cell_type": "code",
   "execution_count": 73,
   "id": "daa4b503",
   "metadata": {},
   "outputs": [
    {
     "data": {
      "text/plain": [
       "Identifier                                  0.000000\n",
       "Number Of Trees                             0.396690\n",
       "Site Name                                   0.000000\n",
       "Contract Area                               0.000000\n",
       "Scientific Name                             0.000000\n",
       "Inspection Date                             0.000000\n",
       "Inspection Due Date                         0.000000\n",
       "Height In Metres                            0.733663\n",
       "Spread In Metres                            1.181539\n",
       "Diameter In Centimetres At Breast Height    1.164477\n",
       "Ward Code                                   0.000000\n",
       "Ward Name                                   0.000000\n",
       "Easting                                     0.238867\n",
       "Northing                                    0.238867\n",
       "Longitude                                   0.000000\n",
       "Latitude                                    0.000000\n",
       "Location                                    0.000000\n",
       "dtype: float64"
      ]
     },
     "execution_count": 73,
     "metadata": {},
     "output_type": "execute_result"
    }
   ],
   "source": [
    "# Percentage of zero values\n",
    "trees.isin([0]).mean()*100\n",
    "\n",
    "#Gives a proporion of the zero values with the mean as a percentage\n",
    "\n",
    "#More percentage is found diameter in cm at breast height/ spread in m 1.18\n",
    "#Height in metres 0.73%\n",
    "#Number of Trees 0.39&"
   ]
  },
  {
   "cell_type": "code",
   "execution_count": 74,
   "id": "48fcbfc6",
   "metadata": {},
   "outputs": [
    {
     "data": {
      "text/plain": [
       "Identifier                                  0.000000\n",
       "Number Of Trees                             0.004905\n",
       "Site Name                                   0.000000\n",
       "Contract Area                               0.000000\n",
       "Scientific Name                             0.000000\n",
       "Inspection Date                             0.017105\n",
       "Inspection Due Date                         0.017105\n",
       "Height In Metres                            0.026019\n",
       "Spread In Metres                            0.030498\n",
       "Diameter In Centimetres At Breast Height    0.030370\n",
       "Ward Code                                   0.009640\n",
       "Ward Name                                   0.009640\n",
       "Easting                                     0.002389\n",
       "Northing                                    0.002389\n",
       "Longitude                                   0.002389\n",
       "Latitude                                    0.002389\n",
       "Location                                    0.002389\n",
       "dtype: float64"
      ]
     },
     "execution_count": 74,
     "metadata": {},
     "output_type": "execute_result"
    }
   ],
   "source": [
    "# Percentage of null and zero values\n",
    "(trees.isnull().sum() + trees.isin([0]).sum())/trees.shape[0] \n",
    "\n",
    "#Is finding the null and 0 values and is divided by the proportion of total rows\n",
    "\n",
    "#Diamter and spread in m is high at 2 and 3%"
   ]
  },
  {
   "cell_type": "code",
   "execution_count": 75,
   "id": "8d3566c7",
   "metadata": {},
   "outputs": [
    {
     "data": {
      "text/plain": [
       "Identifier                                    0\n",
       "Number Of Trees                             115\n",
       "Site Name                                     0\n",
       "Contract Area                                 0\n",
       "Scientific Name                               0\n",
       "Inspection Date                             401\n",
       "Inspection Due Date                         401\n",
       "Height In Metres                            610\n",
       "Spread In Metres                            715\n",
       "Diameter In Centimetres At Breast Height    712\n",
       "Ward Code                                   226\n",
       "Ward Name                                   226\n",
       "Easting                                      56\n",
       "Northing                                     56\n",
       "Longitude                                    56\n",
       "Latitude                                     56\n",
       "Location                                     56\n",
       "dtype: int64"
      ]
     },
     "execution_count": 75,
     "metadata": {},
     "output_type": "execute_result"
    }
   ],
   "source": [
    "# Number of null and zero values\n",
    "(trees.isnull().sum() + trees.isin([0]).sum())\n",
    "\n",
    "#Total number of null and 0 values combined\n",
    "#Spread in metres, diameter in height and height in m \n",
    "#715 AND 712 FOR DIAMETER AND HEIGHT respectively "
   ]
  },
  {
   "cell_type": "code",
   "execution_count": 76,
   "id": "d9b135b8",
   "metadata": {},
   "outputs": [
    {
     "data": {
      "text/plain": [
       "Identifier                                           0.000000\n",
       "Maturity                                             1.746744\n",
       "Physiological Condition                              2.015802\n",
       "Tree Set To Be Removed                               0.000000\n",
       "Removal Reason                                      99.641256\n",
       "Capital Asset Value For Amenity Trees                1.849242\n",
       "Carbon Storage In Kilograms                         12.214392\n",
       "Gross Carbon Sequestration Per Year In Kilograms    12.214392\n",
       "Pollution Removal Per Year In Grams                 12.214392\n",
       "dtype: float64"
      ]
     },
     "execution_count": 76,
     "metadata": {},
     "output_type": "execute_result"
    }
   ],
   "source": [
    "# Percentage of null values\n",
    "Environmental.isnull().mean()*100\n",
    "\n",
    "#99.64% removal reason\n",
    "#Lowest is maturity with 1.76%\n",
    "#Pollution Removal Per Year In Grams"
   ]
  },
  {
   "cell_type": "code",
   "execution_count": 77,
   "id": "2a5b497a",
   "metadata": {},
   "outputs": [
    {
     "data": {
      "text/plain": [
       "Identifier                                              0\n",
       "Maturity                                              409\n",
       "Physiological Condition                               472\n",
       "Tree Set To Be Removed                                  0\n",
       "Removal Reason                                      23331\n",
       "Capital Asset Value For Amenity Trees                 433\n",
       "Carbon Storage In Kilograms                          2860\n",
       "Gross Carbon Sequestration Per Year In Kilograms     2860\n",
       "Pollution Removal Per Year In Grams                  2860\n",
       "dtype: int64"
      ]
     },
     "execution_count": 77,
     "metadata": {},
     "output_type": "execute_result"
    }
   ],
   "source": [
    "# Number of null values\n",
    "Environmental.isnull().sum()\n",
    "\n",
    "#Removal for reason is high at 23331 is high and pollution removal per year in gram 2860\n"
   ]
  },
  {
   "cell_type": "code",
   "execution_count": 78,
   "id": "1e46c212",
   "metadata": {},
   "outputs": [
    {
     "data": {
      "text/plain": [
       "Identifier                                          0.000000\n",
       "Maturity                                            0.000000\n",
       "Physiological Condition                             0.000000\n",
       "Tree Set To Be Removed                              0.000000\n",
       "Removal Reason                                      0.000000\n",
       "Capital Asset Value For Amenity Trees               1.183002\n",
       "Carbon Storage In Kilograms                         0.000000\n",
       "Gross Carbon Sequestration Per Year In Kilograms    0.025625\n",
       "Pollution Removal Per Year In Grams                 0.000000\n",
       "dtype: float64"
      ]
     },
     "execution_count": 78,
     "metadata": {},
     "output_type": "execute_result"
    }
   ],
   "source": [
    "# Percentage of zero values\n",
    "Environmental.isin([0]).mean()*100\n",
    "\n",
    "#To find the 0 in the columns and gives a percentage at 1.18 for Capital Asset Value for Amenity Trees"
   ]
  },
  {
   "cell_type": "code",
   "execution_count": 79,
   "id": "61493fbe",
   "metadata": {},
   "outputs": [
    {
     "data": {
      "text/plain": [
       "Identifier                                            0\n",
       "Maturity                                              0\n",
       "Physiological Condition                               0\n",
       "Tree Set To Be Removed                                0\n",
       "Removal Reason                                        0\n",
       "Capital Asset Value For Amenity Trees               277\n",
       "Carbon Storage In Kilograms                           0\n",
       "Gross Carbon Sequestration Per Year In Kilograms      6\n",
       "Pollution Removal Per Year In Grams                   0\n",
       "dtype: int64"
      ]
     },
     "execution_count": 79,
     "metadata": {},
     "output_type": "execute_result"
    }
   ],
   "source": [
    "# Number of zero values\n",
    "Environmental.isin([0]).sum()\n",
    "#277 with a high asset value for amenity trees\n",
    "#6 gross carbon sequestration per year in KG"
   ]
  },
  {
   "cell_type": "code",
   "execution_count": 80,
   "id": "52b7f12f",
   "metadata": {},
   "outputs": [
    {
     "data": {
      "text/plain": [
       "Identifier                                          0.000000\n",
       "Maturity                                            0.017467\n",
       "Physiological Condition                             0.020158\n",
       "Tree Set To Be Removed                              0.000000\n",
       "Removal Reason                                      0.996413\n",
       "Capital Asset Value For Amenity Trees               0.030322\n",
       "Carbon Storage In Kilograms                         0.122144\n",
       "Gross Carbon Sequestration Per Year In Kilograms    0.122400\n",
       "Pollution Removal Per Year In Grams                 0.122144\n",
       "dtype: float64"
      ]
     },
     "execution_count": 80,
     "metadata": {},
     "output_type": "execute_result"
    }
   ],
   "source": [
    "# Percentage of null and zero values\n",
    "(Environmental.isnull().sum() + Environmental.isin([0]).sum())/Environmental.shape[0]\n",
    "#0.996413 for reason for removal and 0.020 for the physiological condition"
   ]
  },
  {
   "cell_type": "code",
   "execution_count": 81,
   "id": "d7983abf",
   "metadata": {},
   "outputs": [
    {
     "data": {
      "text/plain": [
       "Identifier                                              0\n",
       "Maturity                                              409\n",
       "Physiological Condition                               472\n",
       "Tree Set To Be Removed                                  0\n",
       "Removal Reason                                      23331\n",
       "Capital Asset Value For Amenity Trees                 710\n",
       "Carbon Storage In Kilograms                          2860\n",
       "Gross Carbon Sequestration Per Year In Kilograms     2866\n",
       "Pollution Removal Per Year In Grams                  2860\n",
       "dtype: int64"
      ]
     },
     "execution_count": 81,
     "metadata": {},
     "output_type": "execute_result"
    }
   ],
   "source": [
    "# Number of null and zero values\n",
    "(Environmental.isnull().sum() + Environmental.isin([0]).sum())\n",
    "\n",
    "#high proporion of 0 and is null for reason for removal and carbon storge at 23331 and 2860"
   ]
  },
  {
   "cell_type": "code",
   "execution_count": 82,
   "id": "b93aca43",
   "metadata": {},
   "outputs": [
    {
     "data": {
      "text/plain": [
       "Scientific Name    0.000000\n",
       "Common Name        4.074703\n",
       "dtype: float64"
      ]
     },
     "execution_count": 82,
     "metadata": {},
     "output_type": "execute_result"
    }
   ],
   "source": [
    "# Percentage of null values\n",
    "Common_and_Scientific_Names.isnull().mean()*100\n",
    "\n",
    "#common names make up 4.07% of null values and 0 for scientific names"
   ]
  },
  {
   "cell_type": "code",
   "execution_count": 83,
   "id": "48dac755",
   "metadata": {},
   "outputs": [
    {
     "data": {
      "text/plain": [
       "Scientific Name     0\n",
       "Common Name        24\n",
       "dtype: int64"
      ]
     },
     "execution_count": 83,
     "metadata": {},
     "output_type": "execute_result"
    }
   ],
   "source": [
    "# Number of null values\n",
    "Common_and_Scientific_Names.isnull().sum() #Common names are missing\n",
    "\n",
    "#24 null valuues in common names"
   ]
  },
  {
   "cell_type": "code",
   "execution_count": 84,
   "id": "dc8544d0",
   "metadata": {},
   "outputs": [
    {
     "data": {
      "text/plain": [
       "Scientific Name    0.0\n",
       "Common Name        0.0\n",
       "dtype: float64"
      ]
     },
     "execution_count": 84,
     "metadata": {},
     "output_type": "execute_result"
    }
   ],
   "source": [
    "# Percentage of zero values\n",
    "Common_and_Scientific_Names.isin([0]).mean()*100\n",
    "#as a percentage of 0 values there is none in common name"
   ]
  },
  {
   "cell_type": "code",
   "execution_count": 86,
   "id": "26608766",
   "metadata": {},
   "outputs": [
    {
     "data": {
      "text/plain": [
       "589"
      ]
     },
     "execution_count": 86,
     "metadata": {},
     "output_type": "execute_result"
    }
   ],
   "source": [
    "Common_and_Scientific_Names.shape[0] \n",
    "#589 rows"
   ]
  },
  {
   "cell_type": "code",
   "execution_count": 88,
   "id": "e3d958b5",
   "metadata": {},
   "outputs": [
    {
     "data": {
      "text/plain": [
       "Scientific Name    0.000000\n",
       "Common Name        0.040747\n",
       "dtype: float64"
      ]
     },
     "execution_count": 88,
     "metadata": {},
     "output_type": "execute_result"
    }
   ],
   "source": [
    "#Percentage of null and zero values \n",
    "(Common_and_Scientific_Names.isnull().sum() + Common_and_Scientific_Names.isin([0]).sum())/Common_and_Scientific_Names.shape[0]\n",
    "\n",
    "#null total + zero values divided by the portion of rows gives 0.04 for scientific names"
   ]
  },
  {
   "cell_type": "code",
   "execution_count": 89,
   "id": "ae3f9a76",
   "metadata": {},
   "outputs": [
    {
     "data": {
      "text/plain": [
       "Scientific Name     0\n",
       "Common Name        24\n",
       "dtype: int64"
      ]
     },
     "execution_count": 89,
     "metadata": {},
     "output_type": "execute_result"
    }
   ],
   "source": [
    "# Number of null and zero values\n",
    "(Common_and_Scientific_Names.isnull().sum() + Common_and_Scientific_Names.isin([0]).sum())\n",
    "\n",
    "#total number is 24 for common name and 0 for scientific"
   ]
  },
  {
   "cell_type": "code",
   "execution_count": 90,
   "id": "6d8c258f",
   "metadata": {},
   "outputs": [
    {
     "data": {
      "image/png": "[encoded data removed]",
      "text/plain": [
       "<Figure size 640x480 with 1 Axes>"
      ]
     },
     "metadata": {},
     "output_type": "display_data"
    }
   ],
   "source": [
    "#Task 5 \n",
    "#Box plot\n",
    "\n",
    "Box_Plot_Height_In_Metres= trees.boxplot(column=\"Height In Metres\")"
   ]
  },
  {
   "cell_type": "code",
   "execution_count": 91,
   "id": "3628ea74",
   "metadata": {},
   "outputs": [],
   "source": [
    "plt.show('Box_Plot_Height_In_Metres')"
   ]
  },
  {
   "cell_type": "code",
   "execution_count": 92,
   "id": "39353dc8",
   "metadata": {},
   "outputs": [
    {
     "data": {
      "text/html": [
       "<div>\n",
       "<style scoped>\n",
       "    .dataframe tbody tr th:only-of-type {\n",
       "        vertical-align: middle;\n",
       "    }\n",
       "\n",
       "    .dataframe tbody tr th {\n",
       "        vertical-align: top;\n",
       "    }\n",
       "\n",
       "    .dataframe thead th {\n",
       "        text-align: right;\n",
       "    }\n",
       "</style>\n",
       "<table border=\"1\" class=\"dataframe\">\n",
       "  <thead>\n",
       "    <tr style=\"text-align: right;\">\n",
       "      <th></th>\n",
       "      <th>Identifier</th>\n",
       "      <th>Number Of Trees</th>\n",
       "      <th>Site Name</th>\n",
       "      <th>Contract Area</th>\n",
       "      <th>Scientific Name</th>\n",
       "      <th>Inspection Date</th>\n",
       "      <th>Inspection Due Date</th>\n",
       "      <th>Height In Metres</th>\n",
       "      <th>Spread In Metres</th>\n",
       "      <th>Diameter In Centimetres At Breast Height</th>\n",
       "      <th>Ward Code</th>\n",
       "      <th>Ward Name</th>\n",
       "      <th>Easting</th>\n",
       "      <th>Northing</th>\n",
       "      <th>Longitude</th>\n",
       "      <th>Latitude</th>\n",
       "      <th>Location</th>\n",
       "    </tr>\n",
       "  </thead>\n",
       "  <tbody>\n",
       "    <tr>\n",
       "      <th>1356</th>\n",
       "      <td>00001547</td>\n",
       "      <td>1.0</td>\n",
       "      <td>Beaumont Walk Estate</td>\n",
       "      <td>Housing</td>\n",
       "      <td>Robinia pseudoacacia</td>\n",
       "      <td>2017-05-23</td>\n",
       "      <td>2020/2021</td>\n",
       "      <td>96.0</td>\n",
       "      <td>10.0</td>\n",
       "      <td>63.0</td>\n",
       "      <td>E05000136</td>\n",
       "      <td>Haverstock</td>\n",
       "      <td>527847</td>\n",
       "      <td>184391</td>\n",
       "      <td>-0.157739</td>\n",
       "      <td>51.543941</td>\n",
       "      <td>(51.543941, -0.157739)</td>\n",
       "    </tr>\n",
       "    <tr>\n",
       "      <th>1863</th>\n",
       "      <td>00013862</td>\n",
       "      <td>1.0</td>\n",
       "      <td>Maitland Park Estate 1</td>\n",
       "      <td>Housing</td>\n",
       "      <td>Prunus avium</td>\n",
       "      <td>2017-05-16</td>\n",
       "      <td>2020/2021</td>\n",
       "      <td>127.0</td>\n",
       "      <td>9.0</td>\n",
       "      <td>34.0</td>\n",
       "      <td>E05000136</td>\n",
       "      <td>Haverstock</td>\n",
       "      <td>527987</td>\n",
       "      <td>184901</td>\n",
       "      <td>-0.155534</td>\n",
       "      <td>51.548497</td>\n",
       "      <td>(51.548497, -0.155534)</td>\n",
       "    </tr>\n",
       "  </tbody>\n",
       "</table>\n",
       "</div>"
      ],
      "text/plain": [
       "     Identifier  Number Of Trees               Site Name Contract Area  \\\n",
       "1356   00001547              1.0    Beaumont Walk Estate       Housing   \n",
       "1863   00013862              1.0  Maitland Park Estate 1       Housing   \n",
       "\n",
       "           Scientific Name Inspection Date Inspection Due Date  \\\n",
       "1356  Robinia pseudoacacia      2017-05-23           2020/2021   \n",
       "1863          Prunus avium      2017-05-16           2020/2021   \n",
       "\n",
       "      Height In Metres  Spread In Metres  \\\n",
       "1356              96.0              10.0   \n",
       "1863             127.0               9.0   \n",
       "\n",
       "      Diameter In Centimetres At Breast Height  Ward Code   Ward Name  \\\n",
       "1356                                      63.0  E05000136  Haverstock   \n",
       "1863                                      34.0  E05000136  Haverstock   \n",
       "\n",
       "      Easting  Northing  Longitude   Latitude                Location  \n",
       "1356   527847    184391  -0.157739  51.543941  (51.543941, -0.157739)  \n",
       "1863   527987    184901  -0.155534  51.548497  (51.548497, -0.155534)  "
      ]
     },
     "execution_count": 92,
     "metadata": {},
     "output_type": "execute_result"
    }
   ],
   "source": [
    "#Shows the average at 15 metres in height\n",
    "#Outliers shown at 96 and above 127\n",
    "#IQR spread is not as long\n",
    "\n",
    "mask = trees[\"Height In Metres\"] >80\n",
    "trees[mask]\n"
   ]
  },
  {
   "cell_type": "code",
   "execution_count": 93,
   "id": "528100b9",
   "metadata": {},
   "outputs": [
    {
     "data": {
      "image/png": "[encoded data removed]",
      "text/plain": [
       "<Figure size 640x480 with 1 Axes>"
      ]
     },
     "metadata": {},
     "output_type": "display_data"
    }
   ],
   "source": [
    "Box_Plot_Spread_In_Metres= trees.boxplot(column=\"Spread In Metres\")\n",
    "plt.show('Box_Plot_Spread_In_Metres')"
   ]
  },
  {
   "cell_type": "code",
   "execution_count": 94,
   "id": "b89fa570",
   "metadata": {},
   "outputs": [
    {
     "data": {
      "text/html": [
       "<div>\n",
       "<style scoped>\n",
       "    .dataframe tbody tr th:only-of-type {\n",
       "        vertical-align: middle;\n",
       "    }\n",
       "\n",
       "    .dataframe tbody tr th {\n",
       "        vertical-align: top;\n",
       "    }\n",
       "\n",
       "    .dataframe thead th {\n",
       "        text-align: right;\n",
       "    }\n",
       "</style>\n",
       "<table border=\"1\" class=\"dataframe\">\n",
       "  <thead>\n",
       "    <tr style=\"text-align: right;\">\n",
       "      <th></th>\n",
       "      <th>Identifier</th>\n",
       "      <th>Number Of Trees</th>\n",
       "      <th>Site Name</th>\n",
       "      <th>Contract Area</th>\n",
       "      <th>Scientific Name</th>\n",
       "      <th>Inspection Date</th>\n",
       "      <th>Inspection Due Date</th>\n",
       "      <th>Height In Metres</th>\n",
       "      <th>Spread In Metres</th>\n",
       "      <th>Diameter In Centimetres At Breast Height</th>\n",
       "      <th>Ward Code</th>\n",
       "      <th>Ward Name</th>\n",
       "      <th>Easting</th>\n",
       "      <th>Northing</th>\n",
       "      <th>Longitude</th>\n",
       "      <th>Latitude</th>\n",
       "      <th>Location</th>\n",
       "    </tr>\n",
       "  </thead>\n",
       "  <tbody>\n",
       "    <tr>\n",
       "      <th>18567</th>\n",
       "      <td>00045515</td>\n",
       "      <td>1.0</td>\n",
       "      <td>Broadfield Estate 1</td>\n",
       "      <td>Housing</td>\n",
       "      <td>Quercus robur</td>\n",
       "      <td>2018-04-26</td>\n",
       "      <td>2021/2022</td>\n",
       "      <td>8.0</td>\n",
       "      <td>88.0</td>\n",
       "      <td>17.0</td>\n",
       "      <td>E05000144</td>\n",
       "      <td>Swiss Cottage</td>\n",
       "      <td>525993</td>\n",
       "      <td>184693</td>\n",
       "      <td>-0.184348</td>\n",
       "      <td>51.547074</td>\n",
       "      <td>(51.547074, -0.184348)</td>\n",
       "    </tr>\n",
       "  </tbody>\n",
       "</table>\n",
       "</div>"
      ],
      "text/plain": [
       "      Identifier  Number Of Trees            Site Name Contract Area  \\\n",
       "18567   00045515              1.0  Broadfield Estate 1       Housing   \n",
       "\n",
       "      Scientific Name Inspection Date Inspection Due Date  Height In Metres  \\\n",
       "18567   Quercus robur      2018-04-26           2021/2022               8.0   \n",
       "\n",
       "       Spread In Metres  Diameter In Centimetres At Breast Height  Ward Code  \\\n",
       "18567              88.0                                      17.0  E05000144   \n",
       "\n",
       "           Ward Name  Easting  Northing  Longitude   Latitude  \\\n",
       "18567  Swiss Cottage   525993    184693  -0.184348  51.547074   \n",
       "\n",
       "                     Location  \n",
       "18567  (51.547074, -0.184348)  "
      ]
     },
     "execution_count": 94,
     "metadata": {},
     "output_type": "execute_result"
    }
   ],
   "source": [
    "#Spread in metres with 10 in metres\n",
    "#10m spread in metres\n",
    "#Spread in metres at 88m\n",
    "#Distribution is more skwed in the data\n",
    "\n",
    "mask = trees[\"Spread In Metres\"] > 80\n",
    "trees[mask]\n"
   ]
  },
  {
   "cell_type": "code",
   "execution_count": 95,
   "id": "0037d0b4",
   "metadata": {},
   "outputs": [],
   "source": [
    "Box_Plot_Diameter= trees.boxplot(column=\"Diameter In Centimetres At Breast Height\")"
   ]
  },
  {
   "cell_type": "code",
   "execution_count": 96,
   "id": "b6a2e804",
   "metadata": {},
   "outputs": [
    {
     "data": {
      "image/png": "[encoded data removed]",
      "text/plain": [
       "<Figure size 640x480 with 1 Axes>"
      ]
     },
     "metadata": {},
     "output_type": "display_data"
    }
   ],
   "source": [
    "plt.show('Box_Plot_Diameter')"
   ]
  },
  {
   "cell_type": "code",
   "execution_count": 97,
   "id": "da802d2f",
   "metadata": {},
   "outputs": [],
   "source": [
    "#Median is higher at 25m in cm in height\n",
    "#25cm in Diameter in cm at Breast Height\n",
    "#Outliers are not as spread out\n",
    "#IQR spread is 40"
   ]
  },
  {
   "cell_type": "code",
   "execution_count": 112,
   "id": "0595a6a7",
   "metadata": {},
   "outputs": [
    {
     "data": {
      "text/plain": [
       "Identifier\n",
       "00060088    2\n",
       "00032549    2\n",
       "00000999    2\n",
       "00022744    2\n",
       "00022674    2\n",
       "00060087    2\n",
       "Name: count, dtype: int64"
      ]
     },
     "execution_count": 112,
     "metadata": {},
     "output_type": "execute_result"
    }
   ],
   "source": [
    "duplicate_rows = trees[trees.duplicated(subset=[\"Identifier\"],keep=False)]\n",
    "duplicate_rows[\"Identifier\"].value_counts()\n",
    "#The duplicate function finds the duplicates in the trees and specifically looks at the identifier\n",
    "#Results shows there is 12 rows that have duplicates for the identifiers \n",
    "\n"
   ]
  },
  {
   "cell_type": "code",
   "execution_count": 113,
   "id": "07b64fd9",
   "metadata": {},
   "outputs": [
    {
     "data": {
      "text/plain": [
       "1219     False\n",
       "4388     False\n",
       "5491     False\n",
       "6111      True\n",
       "7027     False\n",
       "9186      True\n",
       "9482     False\n",
       "10972     True\n",
       "13098     True\n",
       "13628     True\n",
       "15393    False\n",
       "15653     True\n",
       "Name: Identifier, dtype: bool"
      ]
     },
     "execution_count": 113,
     "metadata": {},
     "output_type": "execute_result"
    }
   ],
   "source": [
    "duplicate_rows.Identifier.duplicated()\n",
    "\n",
    "#Shows the 6111, 9186, 10972,13098,13628 and 15653 are duplicate values "
   ]
  },
  {
   "cell_type": "code",
   "execution_count": 128,
   "id": "57f803d9",
   "metadata": {},
   "outputs": [],
   "source": [
    "geotrees = trees.copy()\n",
    "\n",
    "mask = geotrees[\"Easting\"] != 0\n",
    "geotrees= geotrees[mask]\n",
    "mask = geotrees[\"Northing\"] != 0\n",
    "\n",
    "geotrees= geotrees[mask]\n",
    "\n",
    "#For both Easting and Northing to create a filter that only returns values that is not 0 and in a true boolean form through a mask\n",
    "\n",
    "\n"
   ]
  },
  {
   "cell_type": "code",
   "execution_count": 130,
   "id": "90f4e5ae",
   "metadata": {},
   "outputs": [
    {
     "data": {
      "text/plain": [
       "(23388, 17)"
      ]
     },
     "execution_count": 130,
     "metadata": {},
     "output_type": "execute_result"
    }
   ],
   "source": [
    "#Number of rows\n",
    "\n",
    "geotrees.shape\n",
    "\n",
    "#23,388 rows"
   ]
  },
  {
   "cell_type": "code",
   "execution_count": 118,
   "id": "110de8df",
   "metadata": {},
   "outputs": [
    {
     "data": {
      "text/plain": [
       "Identifier                                    0\n",
       "Number Of Trees                              22\n",
       "Site Name                                     0\n",
       "Contract Area                                 0\n",
       "Scientific Name                               0\n",
       "Inspection Date                             353\n",
       "Inspection Due Date                         353\n",
       "Height In Metres                            434\n",
       "Spread In Metres                            434\n",
       "Diameter In Centimetres At Breast Height    435\n",
       "Ward Code                                   170\n",
       "Ward Name                                   170\n",
       "Easting                                       0\n",
       "Northing                                      0\n",
       "Longitude                                     0\n",
       "Latitude                                      0\n",
       "Location                                      0\n",
       "dtype: int64"
      ]
     },
     "execution_count": 118,
     "metadata": {},
     "output_type": "execute_result"
    }
   ],
   "source": [
    "#Check for null values\n",
    "geotrees.isnull().sum()\n",
    "\n",
    "#In the geotrees data set find Northing and Easting have no null values\n",
    "\n"
   ]
  },
  {
   "cell_type": "code",
   "execution_count": null,
   "id": "4950224d",
   "metadata": {},
   "outputs": [],
   "source": [
    "geotrees.isin([0]).sum()\n",
    "#Geotrees data frame to find values that contain 0 in the columns \n",
    "#Shows Northing and Easting has no 0 values after the mask"
   ]
  },
  {
   "cell_type": "code",
   "execution_count": 121,
   "id": "04a5cab8",
   "metadata": {},
   "outputs": [
    {
     "data": {
      "image/png": "[encoded data removed]",
      "text/plain": [
       "<Figure size 640x480 with 1 Axes>"
      ]
     },
     "metadata": {},
     "output_type": "display_data"
    },
    {
     "data": {
      "image/png": "[encoded data removed]",
      "text/plain": [
       "<Figure size 600x600 with 1 Axes>"
      ]
     },
     "metadata": {},
     "output_type": "display_data"
    }
   ],
   "source": [
    "#7.2 graph\n",
    "\n",
    "\n",
    "sns.scatterplot(data=geotrees, x=\"Easting\", y=\"Northing\", s=50)\n",
    "plt.figure(figsize=(6, 6))\n",
    "\n",
    "#seabourne package with data frame of geotrees that has considered Easting as X and Y as Northing and a scalar function\n",
    "#6.6\n",
    "\n",
    "# Adding a 2D density plot (heatmap) using sns.kdeplot\n",
    "sns.kdeplot(data=geotrees, x=\"Easting\", y=\"Northing\", fill=True, cmap=\"viridis\", levels=50)\n",
    "\n",
    "plt.show()\n",
    "\n",
    "#Seaboune shows a map of camden with ooutluers shown at 194000 and 196000 Northing\n",
    "#Large concentration of trees shown in the middle of Camden and North East\n"
   ]
  },
  {
   "cell_type": "code",
   "execution_count": 133,
   "id": "9350bd76",
   "metadata": {},
   "outputs": [
    {
     "data": {
      "text/html": [
       "<div>\n",
       "<style scoped>\n",
       "    .dataframe tbody tr th:only-of-type {\n",
       "        vertical-align: middle;\n",
       "    }\n",
       "\n",
       "    .dataframe tbody tr th {\n",
       "        vertical-align: top;\n",
       "    }\n",
       "\n",
       "    .dataframe thead th {\n",
       "        text-align: right;\n",
       "    }\n",
       "</style>\n",
       "<table border=\"1\" class=\"dataframe\">\n",
       "  <thead>\n",
       "    <tr style=\"text-align: right;\">\n",
       "      <th></th>\n",
       "      <th>Identifier</th>\n",
       "      <th>Number Of Trees</th>\n",
       "      <th>Site Name</th>\n",
       "      <th>Contract Area</th>\n",
       "      <th>Scientific Name</th>\n",
       "      <th>Inspection Date</th>\n",
       "      <th>Inspection Due Date</th>\n",
       "      <th>Height In Metres</th>\n",
       "      <th>Spread In Metres</th>\n",
       "      <th>Diameter In Centimetres At Breast Height</th>\n",
       "      <th>Ward Code</th>\n",
       "      <th>Ward Name</th>\n",
       "      <th>Easting</th>\n",
       "      <th>Northing</th>\n",
       "      <th>Longitude</th>\n",
       "      <th>Latitude</th>\n",
       "      <th>Location</th>\n",
       "    </tr>\n",
       "  </thead>\n",
       "  <tbody>\n",
       "    <tr>\n",
       "      <th>78</th>\n",
       "      <td>00044991</td>\n",
       "      <td>1.0</td>\n",
       "      <td>Bells Hill Estate</td>\n",
       "      <td>Housing</td>\n",
       "      <td>Fraxinus excelsior</td>\n",
       "      <td>2017-04-28</td>\n",
       "      <td>2020/2021</td>\n",
       "      <td>20.0</td>\n",
       "      <td>10.0</td>\n",
       "      <td>49.0</td>\n",
       "      <td>NaN</td>\n",
       "      <td>NaN</td>\n",
       "      <td>523883</td>\n",
       "      <td>196179</td>\n",
       "      <td>-0.210713</td>\n",
       "      <td>51.650765</td>\n",
       "      <td>(51.650765, -0.210713)</td>\n",
       "    </tr>\n",
       "    <tr>\n",
       "      <th>298</th>\n",
       "      <td>00045000</td>\n",
       "      <td>1.0</td>\n",
       "      <td>Estate 167 Furzehill Road</td>\n",
       "      <td>Housing</td>\n",
       "      <td>Pinus sylvestris</td>\n",
       "      <td>2017-04-28</td>\n",
       "      <td>2020/2021</td>\n",
       "      <td>10.0</td>\n",
       "      <td>3.0</td>\n",
       "      <td>41.0</td>\n",
       "      <td>NaN</td>\n",
       "      <td>NaN</td>\n",
       "      <td>520367</td>\n",
       "      <td>195595</td>\n",
       "      <td>-0.261719</td>\n",
       "      <td>51.646283</td>\n",
       "      <td>(51.646283, -0.261719)</td>\n",
       "    </tr>\n",
       "    <tr>\n",
       "      <th>660</th>\n",
       "      <td>00044992</td>\n",
       "      <td>1.0</td>\n",
       "      <td>Bells Hill Estate</td>\n",
       "      <td>Housing</td>\n",
       "      <td>Crataegus monogyna</td>\n",
       "      <td>2017-04-28</td>\n",
       "      <td>2020/2021</td>\n",
       "      <td>4.0</td>\n",
       "      <td>4.0</td>\n",
       "      <td>7.0</td>\n",
       "      <td>NaN</td>\n",
       "      <td>NaN</td>\n",
       "      <td>523875</td>\n",
       "      <td>196170</td>\n",
       "      <td>-0.210830</td>\n",
       "      <td>51.650690</td>\n",
       "      <td>(51.65069, -0.21083)</td>\n",
       "    </tr>\n",
       "    <tr>\n",
       "      <th>1526</th>\n",
       "      <td>00044995</td>\n",
       "      <td>1.0</td>\n",
       "      <td>Bells Hill Estate</td>\n",
       "      <td>Housing</td>\n",
       "      <td>Fraxinus excelsior</td>\n",
       "      <td>2017-04-28</td>\n",
       "      <td>2020/2021</td>\n",
       "      <td>18.0</td>\n",
       "      <td>12.0</td>\n",
       "      <td>54.0</td>\n",
       "      <td>NaN</td>\n",
       "      <td>NaN</td>\n",
       "      <td>523936</td>\n",
       "      <td>196127</td>\n",
       "      <td>-0.209969</td>\n",
       "      <td>51.650287</td>\n",
       "      <td>(51.650287, -0.209969)</td>\n",
       "    </tr>\n",
       "    <tr>\n",
       "      <th>5392</th>\n",
       "      <td>00044990</td>\n",
       "      <td>1.0</td>\n",
       "      <td>Bells Hill Estate</td>\n",
       "      <td>Housing</td>\n",
       "      <td>Aesculus hippocastanum</td>\n",
       "      <td>2017-04-28</td>\n",
       "      <td>2020/2021</td>\n",
       "      <td>22.0</td>\n",
       "      <td>12.0</td>\n",
       "      <td>67.0</td>\n",
       "      <td>NaN</td>\n",
       "      <td>NaN</td>\n",
       "      <td>523889</td>\n",
       "      <td>196188</td>\n",
       "      <td>-0.210618</td>\n",
       "      <td>51.650843</td>\n",
       "      <td>(51.650843, -0.210618)</td>\n",
       "    </tr>\n",
       "    <tr>\n",
       "      <th>18069</th>\n",
       "      <td>00044993</td>\n",
       "      <td>1.0</td>\n",
       "      <td>Bells Hill Estate</td>\n",
       "      <td>Housing</td>\n",
       "      <td>Tilia cordata</td>\n",
       "      <td>2017-04-28</td>\n",
       "      <td>2020/2021</td>\n",
       "      <td>23.0</td>\n",
       "      <td>14.0</td>\n",
       "      <td>89.0</td>\n",
       "      <td>NaN</td>\n",
       "      <td>NaN</td>\n",
       "      <td>523867</td>\n",
       "      <td>196159</td>\n",
       "      <td>-0.210957</td>\n",
       "      <td>51.650590</td>\n",
       "      <td>(51.65059, -0.210957)</td>\n",
       "    </tr>\n",
       "    <tr>\n",
       "      <th>18078</th>\n",
       "      <td>00044601</td>\n",
       "      <td>1.0</td>\n",
       "      <td>Bells Hill Estate</td>\n",
       "      <td>Housing</td>\n",
       "      <td>Tilia cordata</td>\n",
       "      <td>2017-04-28</td>\n",
       "      <td>2020/2021</td>\n",
       "      <td>21.0</td>\n",
       "      <td>12.0</td>\n",
       "      <td>56.0</td>\n",
       "      <td>NaN</td>\n",
       "      <td>NaN</td>\n",
       "      <td>523905</td>\n",
       "      <td>196174</td>\n",
       "      <td>-0.210394</td>\n",
       "      <td>51.650719</td>\n",
       "      <td>(51.650719, -0.210394)</td>\n",
       "    </tr>\n",
       "    <tr>\n",
       "      <th>19532</th>\n",
       "      <td>00044988</td>\n",
       "      <td>1.0</td>\n",
       "      <td>Bells Hill Estate</td>\n",
       "      <td>Housing</td>\n",
       "      <td>Tilia cordata</td>\n",
       "      <td>2017-04-28</td>\n",
       "      <td>2020/2021</td>\n",
       "      <td>21.0</td>\n",
       "      <td>12.0</td>\n",
       "      <td>65.0</td>\n",
       "      <td>NaN</td>\n",
       "      <td>NaN</td>\n",
       "      <td>523909</td>\n",
       "      <td>196169</td>\n",
       "      <td>-0.210340</td>\n",
       "      <td>51.650676</td>\n",
       "      <td>(51.650676, -0.21034)</td>\n",
       "    </tr>\n",
       "  </tbody>\n",
       "</table>\n",
       "</div>"
      ],
      "text/plain": [
       "      Identifier  Number Of Trees                  Site Name Contract Area  \\\n",
       "78      00044991              1.0          Bells Hill Estate       Housing   \n",
       "298     00045000              1.0  Estate 167 Furzehill Road       Housing   \n",
       "660     00044992              1.0          Bells Hill Estate       Housing   \n",
       "1526    00044995              1.0          Bells Hill Estate       Housing   \n",
       "5392    00044990              1.0          Bells Hill Estate       Housing   \n",
       "18069   00044993              1.0          Bells Hill Estate       Housing   \n",
       "18078   00044601              1.0          Bells Hill Estate       Housing   \n",
       "19532   00044988              1.0          Bells Hill Estate       Housing   \n",
       "\n",
       "              Scientific Name Inspection Date Inspection Due Date  \\\n",
       "78         Fraxinus excelsior      2017-04-28           2020/2021   \n",
       "298          Pinus sylvestris      2017-04-28           2020/2021   \n",
       "660        Crataegus monogyna      2017-04-28           2020/2021   \n",
       "1526       Fraxinus excelsior      2017-04-28           2020/2021   \n",
       "5392   Aesculus hippocastanum      2017-04-28           2020/2021   \n",
       "18069           Tilia cordata      2017-04-28           2020/2021   \n",
       "18078           Tilia cordata      2017-04-28           2020/2021   \n",
       "19532           Tilia cordata      2017-04-28           2020/2021   \n",
       "\n",
       "       Height In Metres  Spread In Metres  \\\n",
       "78                 20.0              10.0   \n",
       "298                10.0               3.0   \n",
       "660                 4.0               4.0   \n",
       "1526               18.0              12.0   \n",
       "5392               22.0              12.0   \n",
       "18069              23.0              14.0   \n",
       "18078              21.0              12.0   \n",
       "19532              21.0              12.0   \n",
       "\n",
       "       Diameter In Centimetres At Breast Height Ward Code Ward Name  Easting  \\\n",
       "78                                         49.0       NaN       NaN   523883   \n",
       "298                                        41.0       NaN       NaN   520367   \n",
       "660                                         7.0       NaN       NaN   523875   \n",
       "1526                                       54.0       NaN       NaN   523936   \n",
       "5392                                       67.0       NaN       NaN   523889   \n",
       "18069                                      89.0       NaN       NaN   523867   \n",
       "18078                                      56.0       NaN       NaN   523905   \n",
       "19532                                      65.0       NaN       NaN   523909   \n",
       "\n",
       "       Northing  Longitude   Latitude                Location  \n",
       "78       196179  -0.210713  51.650765  (51.650765, -0.210713)  \n",
       "298      195595  -0.261719  51.646283  (51.646283, -0.261719)  \n",
       "660      196170  -0.210830  51.650690    (51.65069, -0.21083)  \n",
       "1526     196127  -0.209969  51.650287  (51.650287, -0.209969)  \n",
       "5392     196188  -0.210618  51.650843  (51.650843, -0.210618)  \n",
       "18069    196159  -0.210957  51.650590   (51.65059, -0.210957)  \n",
       "18078    196174  -0.210394  51.650719  (51.650719, -0.210394)  \n",
       "19532    196169  -0.210340  51.650676   (51.650676, -0.21034)  "
      ]
     },
     "execution_count": 133,
     "metadata": {},
     "output_type": "execute_result"
    }
   ],
   "source": [
    "#7.3 outliers beyond Camden\n",
    "\n",
    "mask = geotrees[\"Northing\"] > 194000\n",
    "geotrees[mask]\n",
    "\n",
    "#Finding outliers that are beyond Camden with 8 trees looking at the coordinates of Northing >194000"
   ]
  },
  {
   "cell_type": "code",
   "execution_count": 126,
   "id": "7ed6841d",
   "metadata": {},
   "outputs": [
    {
     "data": {
      "text/plain": [
       "23388"
      ]
     },
     "execution_count": 126,
     "metadata": {},
     "output_type": "execute_result"
    }
   ],
   "source": [
    "#Confirm rows in the geotrees dataset\n",
    "\n",
    "geotrees.shape[0]\n",
    "\n",
    "#There are 23,388 rows in the dataset "
   ]
  },
  {
   "cell_type": "code",
   "execution_count": 134,
   "id": "5aa21efd",
   "metadata": {},
   "outputs": [],
   "source": [
    "#7.4\n",
    "\n",
    "#Map shows missing values as it doesnt take up the shape of camden\n",
    "#Large amount of data that is missing impacts statisitial analysis\n",
    "#Outliers still contaiend in the rows"
   ]
  },
  {
   "cell_type": "code",
   "execution_count": 135,
   "id": "8e5a9bf2",
   "metadata": {},
   "outputs": [
    {
     "data": {
      "text/plain": [
       "(23444, 17)"
      ]
     },
     "execution_count": 135,
     "metadata": {},
     "output_type": "execute_result"
    }
   ],
   "source": [
    "#Task 8\n",
    "trees.shape\n"
   ]
  },
  {
   "cell_type": "code",
   "execution_count": 177,
   "id": "fac09af1",
   "metadata": {},
   "outputs": [
    {
     "data": {
      "text/html": [
       "<div>\n",
       "<style scoped>\n",
       "    .dataframe tbody tr th:only-of-type {\n",
       "        vertical-align: middle;\n",
       "    }\n",
       "\n",
       "    .dataframe tbody tr th {\n",
       "        vertical-align: top;\n",
       "    }\n",
       "\n",
       "    .dataframe thead th {\n",
       "        text-align: right;\n",
       "    }\n",
       "</style>\n",
       "<table border=\"1\" class=\"dataframe\">\n",
       "  <thead>\n",
       "    <tr style=\"text-align: right;\">\n",
       "      <th></th>\n",
       "      <th>Identifier</th>\n",
       "      <th>Number Of Trees</th>\n",
       "      <th>Site Name</th>\n",
       "      <th>Contract Area</th>\n",
       "      <th>Scientific Name</th>\n",
       "      <th>Inspection Date</th>\n",
       "      <th>Inspection Due Date</th>\n",
       "      <th>Height In Metres</th>\n",
       "      <th>Spread In Metres</th>\n",
       "      <th>Diameter In Centimetres At Breast Height</th>\n",
       "      <th>Ward Code</th>\n",
       "      <th>Ward Name</th>\n",
       "      <th>Easting</th>\n",
       "      <th>Northing</th>\n",
       "      <th>Longitude</th>\n",
       "      <th>Latitude</th>\n",
       "      <th>Location</th>\n",
       "    </tr>\n",
       "  </thead>\n",
       "  <tbody>\n",
       "    <tr>\n",
       "      <th>66</th>\n",
       "      <td>00059712</td>\n",
       "      <td>1.0</td>\n",
       "      <td>Maiden Lane Estate</td>\n",
       "      <td>Housing</td>\n",
       "      <td>Acer saccharinum</td>\n",
       "      <td>2019-05-28</td>\n",
       "      <td>2022/2023</td>\n",
       "      <td>12.0</td>\n",
       "      <td>5.0</td>\n",
       "      <td>20.0</td>\n",
       "      <td>E05000131</td>\n",
       "      <td>Cantelowes</td>\n",
       "      <td>529795</td>\n",
       "      <td>184142</td>\n",
       "      <td>-0.129750</td>\n",
       "      <td>51.541266</td>\n",
       "      <td>(51.541266, -0.12975)</td>\n",
       "    </tr>\n",
       "    <tr>\n",
       "      <th>125</th>\n",
       "      <td>00048578</td>\n",
       "      <td>1.0</td>\n",
       "      <td>BUCK STREET</td>\n",
       "      <td>Highways</td>\n",
       "      <td>Sorbus aucuparia</td>\n",
       "      <td>2017-07-19</td>\n",
       "      <td>2020/2021</td>\n",
       "      <td>6.0</td>\n",
       "      <td>2.0</td>\n",
       "      <td>10.0</td>\n",
       "      <td>E05000130</td>\n",
       "      <td>Camden Town with Primrose Hill</td>\n",
       "      <td>528900</td>\n",
       "      <td>184020</td>\n",
       "      <td>-0.142698</td>\n",
       "      <td>51.540371</td>\n",
       "      <td>(51.540371, -0.142698)</td>\n",
       "    </tr>\n",
       "    <tr>\n",
       "      <th>1148</th>\n",
       "      <td>00006577</td>\n",
       "      <td>1.0</td>\n",
       "      <td>FAWLEY ROAD</td>\n",
       "      <td>Highways</td>\n",
       "      <td>Tilia euchlora</td>\n",
       "      <td>2018-09-28</td>\n",
       "      <td>2021/2022</td>\n",
       "      <td>15.0</td>\n",
       "      <td>6.0</td>\n",
       "      <td>38.0</td>\n",
       "      <td>E05000145</td>\n",
       "      <td>West Hampstead</td>\n",
       "      <td>525572</td>\n",
       "      <td>185015</td>\n",
       "      <td>-0.190313</td>\n",
       "      <td>51.550062</td>\n",
       "      <td>(51.550062, -0.190313)</td>\n",
       "    </tr>\n",
       "    <tr>\n",
       "      <th>1998</th>\n",
       "      <td>00007366</td>\n",
       "      <td>1.0</td>\n",
       "      <td>FORTUNE GREEN RD, OPEN SPACE (LS)</td>\n",
       "      <td>Parks</td>\n",
       "      <td>Ilex aquifolium</td>\n",
       "      <td>2017-03-21</td>\n",
       "      <td>2019/2020</td>\n",
       "      <td>9.0</td>\n",
       "      <td>6.0</td>\n",
       "      <td>44.0</td>\n",
       "      <td>E05000132</td>\n",
       "      <td>Fortune Green</td>\n",
       "      <td>525074</td>\n",
       "      <td>185541</td>\n",
       "      <td>-0.197304</td>\n",
       "      <td>51.554901</td>\n",
       "      <td>(51.554901, -0.197304)</td>\n",
       "    </tr>\n",
       "    <tr>\n",
       "      <th>2246</th>\n",
       "      <td>00014633</td>\n",
       "      <td>1.0</td>\n",
       "      <td>Mortimer Estate</td>\n",
       "      <td>Housing</td>\n",
       "      <td>Tilia europaea</td>\n",
       "      <td>2019-01-29</td>\n",
       "      <td>2021/2022</td>\n",
       "      <td>16.0</td>\n",
       "      <td>12.0</td>\n",
       "      <td>47.0</td>\n",
       "      <td>E05000140</td>\n",
       "      <td>Kilburn</td>\n",
       "      <td>525763</td>\n",
       "      <td>183613</td>\n",
       "      <td>-0.188060</td>\n",
       "      <td>51.537424</td>\n",
       "      <td>(51.537424, -0.18806)</td>\n",
       "    </tr>\n",
       "    <tr>\n",
       "      <th>5478</th>\n",
       "      <td>00060382</td>\n",
       "      <td>1.0</td>\n",
       "      <td>SHAFTESBURY AVENUE</td>\n",
       "      <td>Highways</td>\n",
       "      <td>Vacant Tree Pit</td>\n",
       "      <td>NaT</td>\n",
       "      <td>NaN</td>\n",
       "      <td>NaN</td>\n",
       "      <td>NaN</td>\n",
       "      <td>NaN</td>\n",
       "      <td>E05000138</td>\n",
       "      <td>Holborn and Covent Garden</td>\n",
       "      <td>530073</td>\n",
       "      <td>181247</td>\n",
       "      <td>-0.126813</td>\n",
       "      <td>51.515186</td>\n",
       "      <td>(51.515186, -0.126813)</td>\n",
       "    </tr>\n",
       "    <tr>\n",
       "      <th>10637</th>\n",
       "      <td>00002874</td>\n",
       "      <td>1.0</td>\n",
       "      <td>BURGHLEY ROAD</td>\n",
       "      <td>Highways</td>\n",
       "      <td>Platanus x hispanica</td>\n",
       "      <td>2017-08-14</td>\n",
       "      <td>2020/2021</td>\n",
       "      <td>20.0</td>\n",
       "      <td>8.0</td>\n",
       "      <td>52.0</td>\n",
       "      <td>E05000139</td>\n",
       "      <td>Kentish Town</td>\n",
       "      <td>529119</td>\n",
       "      <td>185889</td>\n",
       "      <td>-0.138863</td>\n",
       "      <td>51.557120</td>\n",
       "      <td>(51.55712, -0.138863)</td>\n",
       "    </tr>\n",
       "    <tr>\n",
       "      <th>10977</th>\n",
       "      <td>00055227</td>\n",
       "      <td>1.0</td>\n",
       "      <td>BURGHLEY ROAD</td>\n",
       "      <td>Highways</td>\n",
       "      <td>Amelanchier lamarckii</td>\n",
       "      <td>2017-08-14</td>\n",
       "      <td>2020/2021</td>\n",
       "      <td>3.0</td>\n",
       "      <td>2.0</td>\n",
       "      <td>5.0</td>\n",
       "      <td>E05000139</td>\n",
       "      <td>Kentish Town</td>\n",
       "      <td>528920</td>\n",
       "      <td>185694</td>\n",
       "      <td>-0.141802</td>\n",
       "      <td>51.555408</td>\n",
       "      <td>(51.555408, -0.141802)</td>\n",
       "    </tr>\n",
       "    <tr>\n",
       "      <th>11795</th>\n",
       "      <td>00016702</td>\n",
       "      <td>1.0</td>\n",
       "      <td>RED LION SQUARE, GARDENS (LS)</td>\n",
       "      <td>Parks</td>\n",
       "      <td>Platanus x hispanica</td>\n",
       "      <td>2018-06-04</td>\n",
       "      <td>2021/2022</td>\n",
       "      <td>30.0</td>\n",
       "      <td>23.0</td>\n",
       "      <td>165.0</td>\n",
       "      <td>E05000138</td>\n",
       "      <td>Holborn and Covent Garden</td>\n",
       "      <td>530572</td>\n",
       "      <td>181701</td>\n",
       "      <td>-0.119460</td>\n",
       "      <td>51.519146</td>\n",
       "      <td>(51.519146, -0.11946)</td>\n",
       "    </tr>\n",
       "    <tr>\n",
       "      <th>11856</th>\n",
       "      <td>00054744</td>\n",
       "      <td>1.0</td>\n",
       "      <td>Carrol &amp; Sanderson Close Estate</td>\n",
       "      <td>Housing</td>\n",
       "      <td>Prunus unidentified species</td>\n",
       "      <td>2017-01-06</td>\n",
       "      <td>2020/2021</td>\n",
       "      <td>3.0</td>\n",
       "      <td>3.0</td>\n",
       "      <td>13.0</td>\n",
       "      <td>E05000137</td>\n",
       "      <td>Highgate</td>\n",
       "      <td>528661</td>\n",
       "      <td>185556</td>\n",
       "      <td>-0.145585</td>\n",
       "      <td>51.554226</td>\n",
       "      <td>(51.554226, -0.145585)</td>\n",
       "    </tr>\n",
       "    <tr>\n",
       "      <th>12056</th>\n",
       "      <td>00003694</td>\n",
       "      <td>1.0</td>\n",
       "      <td>Estate 1-161 Burnham (cons)</td>\n",
       "      <td>Housing</td>\n",
       "      <td>Acer platanoides</td>\n",
       "      <td>2018-04-17</td>\n",
       "      <td>2021/2022</td>\n",
       "      <td>3.0</td>\n",
       "      <td>1.0</td>\n",
       "      <td>6.0</td>\n",
       "      <td>E05000128</td>\n",
       "      <td>Belsize</td>\n",
       "      <td>527015</td>\n",
       "      <td>184315</td>\n",
       "      <td>-0.169763</td>\n",
       "      <td>51.543451</td>\n",
       "      <td>(51.543451, -0.169763)</td>\n",
       "    </tr>\n",
       "    <tr>\n",
       "      <th>12936</th>\n",
       "      <td>00054558</td>\n",
       "      <td>1.0</td>\n",
       "      <td>ST. MARY'S KILBURN C OF E JMI (E)</td>\n",
       "      <td>Education</td>\n",
       "      <td>Amelanchier lamarckii</td>\n",
       "      <td>2019-10-07</td>\n",
       "      <td>2022/2023</td>\n",
       "      <td>4.0</td>\n",
       "      <td>2.0</td>\n",
       "      <td>8.0</td>\n",
       "      <td>E05000140</td>\n",
       "      <td>Kilburn</td>\n",
       "      <td>525443</td>\n",
       "      <td>183919</td>\n",
       "      <td>-0.192552</td>\n",
       "      <td>51.540245</td>\n",
       "      <td>(51.540245, -0.192552)</td>\n",
       "    </tr>\n",
       "    <tr>\n",
       "      <th>13248</th>\n",
       "      <td>00059317</td>\n",
       "      <td>1.0</td>\n",
       "      <td>ADELAIDE ROAD NATURE AREA</td>\n",
       "      <td>Parks</td>\n",
       "      <td>Stump Only</td>\n",
       "      <td>2019-01-31</td>\n",
       "      <td>2021/2022</td>\n",
       "      <td>0.0</td>\n",
       "      <td>5.0</td>\n",
       "      <td>50.0</td>\n",
       "      <td>E05000128</td>\n",
       "      <td>Belsize</td>\n",
       "      <td>527577</td>\n",
       "      <td>184297</td>\n",
       "      <td>-0.161664</td>\n",
       "      <td>51.543163</td>\n",
       "      <td>(51.543163, -0.161664)</td>\n",
       "    </tr>\n",
       "    <tr>\n",
       "      <th>16815</th>\n",
       "      <td>00055884</td>\n",
       "      <td>1.0</td>\n",
       "      <td>HONEYBOURNE ROAD</td>\n",
       "      <td>Highways</td>\n",
       "      <td>Acer pseudoplatanus 'Brilliant</td>\n",
       "      <td>2018-05-10</td>\n",
       "      <td>2021/2022</td>\n",
       "      <td>2.0</td>\n",
       "      <td>1.0</td>\n",
       "      <td>4.0</td>\n",
       "      <td>E05000145</td>\n",
       "      <td>West Hampstead</td>\n",
       "      <td>525593</td>\n",
       "      <td>185050</td>\n",
       "      <td>-0.189987</td>\n",
       "      <td>51.550377</td>\n",
       "      <td>(51.550377, -0.189987)</td>\n",
       "    </tr>\n",
       "    <tr>\n",
       "      <th>18690</th>\n",
       "      <td>00059963</td>\n",
       "      <td>1.0</td>\n",
       "      <td>Ampthill Square Estate</td>\n",
       "      <td>Housing</td>\n",
       "      <td>Vacant Tree Pit (planned: Parrotia persica van...</td>\n",
       "      <td>2019-01-08</td>\n",
       "      <td>2022/2023</td>\n",
       "      <td>NaN</td>\n",
       "      <td>NaN</td>\n",
       "      <td>NaN</td>\n",
       "      <td>E05000143</td>\n",
       "      <td>St Pancras and Somers Town</td>\n",
       "      <td>529216</td>\n",
       "      <td>183103</td>\n",
       "      <td>-0.138479</td>\n",
       "      <td>51.532058</td>\n",
       "      <td>(51.532058, -0.138479)</td>\n",
       "    </tr>\n",
       "    <tr>\n",
       "      <th>18958</th>\n",
       "      <td>00059246</td>\n",
       "      <td>1.0</td>\n",
       "      <td>Belsize nature reserve, Russell Nursery</td>\n",
       "      <td>Parks</td>\n",
       "      <td>Ulmus procera</td>\n",
       "      <td>2019-01-29</td>\n",
       "      <td>2021/2022</td>\n",
       "      <td>5.0</td>\n",
       "      <td>4.0</td>\n",
       "      <td>11.0</td>\n",
       "      <td>E05000134</td>\n",
       "      <td>Gospel Oak</td>\n",
       "      <td>527523</td>\n",
       "      <td>185233</td>\n",
       "      <td>-0.162101</td>\n",
       "      <td>51.551587</td>\n",
       "      <td>(51.551587, -0.162101)</td>\n",
       "    </tr>\n",
       "    <tr>\n",
       "      <th>19606</th>\n",
       "      <td>00005127</td>\n",
       "      <td>1.0</td>\n",
       "      <td>CUMBERLAND MARKET, OPEN SPACE (LS)</td>\n",
       "      <td>Parks</td>\n",
       "      <td>Platanus x hispanica</td>\n",
       "      <td>2018-03-13</td>\n",
       "      <td>2020/2021</td>\n",
       "      <td>10.0</td>\n",
       "      <td>8.0</td>\n",
       "      <td>38.0</td>\n",
       "      <td>E05000142</td>\n",
       "      <td>Regent's Park</td>\n",
       "      <td>528913</td>\n",
       "      <td>182814</td>\n",
       "      <td>-0.142959</td>\n",
       "      <td>51.529527</td>\n",
       "      <td>(51.529527, -0.142959)</td>\n",
       "    </tr>\n",
       "    <tr>\n",
       "      <th>20169</th>\n",
       "      <td>00017912</td>\n",
       "      <td>1.0</td>\n",
       "      <td>SHERRIFF ROAD</td>\n",
       "      <td>Highways</td>\n",
       "      <td>Tilia platyphyllos</td>\n",
       "      <td>2018-10-09</td>\n",
       "      <td>2021/2022</td>\n",
       "      <td>9.0</td>\n",
       "      <td>5.0</td>\n",
       "      <td>42.0</td>\n",
       "      <td>E05000145</td>\n",
       "      <td>West Hampstead</td>\n",
       "      <td>525265</td>\n",
       "      <td>184543</td>\n",
       "      <td>-0.194897</td>\n",
       "      <td>51.545886</td>\n",
       "      <td>(51.545886, -0.194897)</td>\n",
       "    </tr>\n",
       "    <tr>\n",
       "      <th>20226</th>\n",
       "      <td>00047080</td>\n",
       "      <td>1.0</td>\n",
       "      <td>Ampthill Square Estate</td>\n",
       "      <td>Housing</td>\n",
       "      <td>Malus unidentified species</td>\n",
       "      <td>2019-01-08</td>\n",
       "      <td>2022/2023</td>\n",
       "      <td>5.0</td>\n",
       "      <td>3.0</td>\n",
       "      <td>16.0</td>\n",
       "      <td>E05000143</td>\n",
       "      <td>St Pancras and Somers Town</td>\n",
       "      <td>529279</td>\n",
       "      <td>183106</td>\n",
       "      <td>-0.137573</td>\n",
       "      <td>51.532073</td>\n",
       "      <td>(51.532073, -0.137573)</td>\n",
       "    </tr>\n",
       "    <tr>\n",
       "      <th>21287</th>\n",
       "      <td>00029059</td>\n",
       "      <td>1.0</td>\n",
       "      <td>Estate 1-20 Marrick House (cons)</td>\n",
       "      <td>Housing</td>\n",
       "      <td>Sambucus nigra</td>\n",
       "      <td>2018-06-19</td>\n",
       "      <td>2021/2022</td>\n",
       "      <td>6.0</td>\n",
       "      <td>6.0</td>\n",
       "      <td>39.0</td>\n",
       "      <td>E05000140</td>\n",
       "      <td>Kilburn</td>\n",
       "      <td>525832</td>\n",
       "      <td>183583</td>\n",
       "      <td>-0.187075</td>\n",
       "      <td>51.537139</td>\n",
       "      <td>(51.537139, -0.187075)</td>\n",
       "    </tr>\n",
       "    <tr>\n",
       "      <th>22470</th>\n",
       "      <td>00012126</td>\n",
       "      <td>1.0</td>\n",
       "      <td>KINGS COLLEGE ROAD</td>\n",
       "      <td>Highways</td>\n",
       "      <td>Fraxinus excelsior</td>\n",
       "      <td>2018-07-13</td>\n",
       "      <td>2021/2022</td>\n",
       "      <td>18.0</td>\n",
       "      <td>12.0</td>\n",
       "      <td>48.0</td>\n",
       "      <td>E05000128</td>\n",
       "      <td>Belsize</td>\n",
       "      <td>526999</td>\n",
       "      <td>184416</td>\n",
       "      <td>-0.169957</td>\n",
       "      <td>51.544363</td>\n",
       "      <td>(51.544363, -0.169957)</td>\n",
       "    </tr>\n",
       "    <tr>\n",
       "      <th>23301</th>\n",
       "      <td>00010784</td>\n",
       "      <td>1.0</td>\n",
       "      <td>Holly Lodge Estate</td>\n",
       "      <td>Housing</td>\n",
       "      <td>Ilex aquifolium</td>\n",
       "      <td>2017-06-14</td>\n",
       "      <td>2020/2021</td>\n",
       "      <td>7.0</td>\n",
       "      <td>5.0</td>\n",
       "      <td>20.0</td>\n",
       "      <td>E05000137</td>\n",
       "      <td>Highgate</td>\n",
       "      <td>528472</td>\n",
       "      <td>186812</td>\n",
       "      <td>-0.147845</td>\n",
       "      <td>51.565562</td>\n",
       "      <td>(51.565562, -0.147845)</td>\n",
       "    </tr>\n",
       "    <tr>\n",
       "      <th>23315</th>\n",
       "      <td>00056485</td>\n",
       "      <td>1.0</td>\n",
       "      <td>WATERLOW PARK (LS)</td>\n",
       "      <td>Parks</td>\n",
       "      <td>Fraxinus excelsior</td>\n",
       "      <td>2019-05-24</td>\n",
       "      <td>2022/2023</td>\n",
       "      <td>12.0</td>\n",
       "      <td>5.0</td>\n",
       "      <td>16.0</td>\n",
       "      <td>E05000137</td>\n",
       "      <td>Highgate</td>\n",
       "      <td>528730</td>\n",
       "      <td>187264</td>\n",
       "      <td>-0.143955</td>\n",
       "      <td>51.569567</td>\n",
       "      <td>(51.569567, -0.143955)</td>\n",
       "    </tr>\n",
       "  </tbody>\n",
       "</table>\n",
       "</div>"
      ],
      "text/plain": [
       "      Identifier  Number Of Trees                                Site Name  \\\n",
       "66      00059712              1.0                       Maiden Lane Estate   \n",
       "125     00048578              1.0                              BUCK STREET   \n",
       "1148    00006577              1.0                              FAWLEY ROAD   \n",
       "1998    00007366              1.0        FORTUNE GREEN RD, OPEN SPACE (LS)   \n",
       "2246    00014633              1.0                          Mortimer Estate   \n",
       "5478    00060382              1.0                       SHAFTESBURY AVENUE   \n",
       "10637   00002874              1.0                            BURGHLEY ROAD   \n",
       "10977   00055227              1.0                            BURGHLEY ROAD   \n",
       "11795   00016702              1.0            RED LION SQUARE, GARDENS (LS)   \n",
       "11856   00054744              1.0          Carrol & Sanderson Close Estate   \n",
       "12056   00003694              1.0              Estate 1-161 Burnham (cons)   \n",
       "12936   00054558              1.0        ST. MARY'S KILBURN C OF E JMI (E)   \n",
       "13248   00059317              1.0                ADELAIDE ROAD NATURE AREA   \n",
       "16815   00055884              1.0                         HONEYBOURNE ROAD   \n",
       "18690   00059963              1.0                   Ampthill Square Estate   \n",
       "18958   00059246              1.0  Belsize nature reserve, Russell Nursery   \n",
       "19606   00005127              1.0       CUMBERLAND MARKET, OPEN SPACE (LS)   \n",
       "20169   00017912              1.0                            SHERRIFF ROAD   \n",
       "20226   00047080              1.0                   Ampthill Square Estate   \n",
       "21287   00029059              1.0         Estate 1-20 Marrick House (cons)   \n",
       "22470   00012126              1.0                       KINGS COLLEGE ROAD   \n",
       "23301   00010784              1.0                       Holly Lodge Estate   \n",
       "23315   00056485              1.0                       WATERLOW PARK (LS)   \n",
       "\n",
       "      Contract Area                                    Scientific Name  \\\n",
       "66          Housing                                   Acer saccharinum   \n",
       "125        Highways                                   Sorbus aucuparia   \n",
       "1148       Highways                                     Tilia euchlora   \n",
       "1998          Parks                                    Ilex aquifolium   \n",
       "2246        Housing                                     Tilia europaea   \n",
       "5478       Highways                                    Vacant Tree Pit   \n",
       "10637      Highways                               Platanus x hispanica   \n",
       "10977      Highways                              Amelanchier lamarckii   \n",
       "11795         Parks                               Platanus x hispanica   \n",
       "11856       Housing                        Prunus unidentified species   \n",
       "12056       Housing                                   Acer platanoides   \n",
       "12936     Education                              Amelanchier lamarckii   \n",
       "13248         Parks                                         Stump Only   \n",
       "16815      Highways                     Acer pseudoplatanus 'Brilliant   \n",
       "18690       Housing  Vacant Tree Pit (planned: Parrotia persica van...   \n",
       "18958         Parks                                      Ulmus procera   \n",
       "19606         Parks                               Platanus x hispanica   \n",
       "20169      Highways                                 Tilia platyphyllos   \n",
       "20226       Housing                         Malus unidentified species   \n",
       "21287       Housing                                     Sambucus nigra   \n",
       "22470      Highways                                 Fraxinus excelsior   \n",
       "23301       Housing                                    Ilex aquifolium   \n",
       "23315         Parks                                 Fraxinus excelsior   \n",
       "\n",
       "      Inspection Date Inspection Due Date  Height In Metres  Spread In Metres  \\\n",
       "66         2019-05-28           2022/2023              12.0               5.0   \n",
       "125        2017-07-19           2020/2021               6.0               2.0   \n",
       "1148       2018-09-28           2021/2022              15.0               6.0   \n",
       "1998       2017-03-21           2019/2020               9.0               6.0   \n",
       "2246       2019-01-29           2021/2022              16.0              12.0   \n",
       "5478              NaT                 NaN               NaN               NaN   \n",
       "10637      2017-08-14           2020/2021              20.0               8.0   \n",
       "10977      2017-08-14           2020/2021               3.0               2.0   \n",
       "11795      2018-06-04           2021/2022              30.0              23.0   \n",
       "11856      2017-01-06           2020/2021               3.0               3.0   \n",
       "12056      2018-04-17           2021/2022               3.0               1.0   \n",
       "12936      2019-10-07           2022/2023               4.0               2.0   \n",
       "13248      2019-01-31           2021/2022               0.0               5.0   \n",
       "16815      2018-05-10           2021/2022               2.0               1.0   \n",
       "18690      2019-01-08           2022/2023               NaN               NaN   \n",
       "18958      2019-01-29           2021/2022               5.0               4.0   \n",
       "19606      2018-03-13           2020/2021              10.0               8.0   \n",
       "20169      2018-10-09           2021/2022               9.0               5.0   \n",
       "20226      2019-01-08           2022/2023               5.0               3.0   \n",
       "21287      2018-06-19           2021/2022               6.0               6.0   \n",
       "22470      2018-07-13           2021/2022              18.0              12.0   \n",
       "23301      2017-06-14           2020/2021               7.0               5.0   \n",
       "23315      2019-05-24           2022/2023              12.0               5.0   \n",
       "\n",
       "       Diameter In Centimetres At Breast Height  Ward Code  \\\n",
       "66                                         20.0  E05000131   \n",
       "125                                        10.0  E05000130   \n",
       "1148                                       38.0  E05000145   \n",
       "1998                                       44.0  E05000132   \n",
       "2246                                       47.0  E05000140   \n",
       "5478                                        NaN  E05000138   \n",
       "10637                                      52.0  E05000139   \n",
       "10977                                       5.0  E05000139   \n",
       "11795                                     165.0  E05000138   \n",
       "11856                                      13.0  E05000137   \n",
       "12056                                       6.0  E05000128   \n",
       "12936                                       8.0  E05000140   \n",
       "13248                                      50.0  E05000128   \n",
       "16815                                       4.0  E05000145   \n",
       "18690                                       NaN  E05000143   \n",
       "18958                                      11.0  E05000134   \n",
       "19606                                      38.0  E05000142   \n",
       "20169                                      42.0  E05000145   \n",
       "20226                                      16.0  E05000143   \n",
       "21287                                      39.0  E05000140   \n",
       "22470                                      48.0  E05000128   \n",
       "23301                                      20.0  E05000137   \n",
       "23315                                      16.0  E05000137   \n",
       "\n",
       "                            Ward Name  Easting  Northing  Longitude  \\\n",
       "66                         Cantelowes   529795    184142  -0.129750   \n",
       "125    Camden Town with Primrose Hill   528900    184020  -0.142698   \n",
       "1148                   West Hampstead   525572    185015  -0.190313   \n",
       "1998                    Fortune Green   525074    185541  -0.197304   \n",
       "2246                          Kilburn   525763    183613  -0.188060   \n",
       "5478        Holborn and Covent Garden   530073    181247  -0.126813   \n",
       "10637                    Kentish Town   529119    185889  -0.138863   \n",
       "10977                    Kentish Town   528920    185694  -0.141802   \n",
       "11795       Holborn and Covent Garden   530572    181701  -0.119460   \n",
       "11856                        Highgate   528661    185556  -0.145585   \n",
       "12056                         Belsize   527015    184315  -0.169763   \n",
       "12936                         Kilburn   525443    183919  -0.192552   \n",
       "13248                         Belsize   527577    184297  -0.161664   \n",
       "16815                  West Hampstead   525593    185050  -0.189987   \n",
       "18690      St Pancras and Somers Town   529216    183103  -0.138479   \n",
       "18958                      Gospel Oak   527523    185233  -0.162101   \n",
       "19606                   Regent's Park   528913    182814  -0.142959   \n",
       "20169                  West Hampstead   525265    184543  -0.194897   \n",
       "20226      St Pancras and Somers Town   529279    183106  -0.137573   \n",
       "21287                         Kilburn   525832    183583  -0.187075   \n",
       "22470                         Belsize   526999    184416  -0.169957   \n",
       "23301                        Highgate   528472    186812  -0.147845   \n",
       "23315                        Highgate   528730    187264  -0.143955   \n",
       "\n",
       "        Latitude                Location  \n",
       "66     51.541266   (51.541266, -0.12975)  \n",
       "125    51.540371  (51.540371, -0.142698)  \n",
       "1148   51.550062  (51.550062, -0.190313)  \n",
       "1998   51.554901  (51.554901, -0.197304)  \n",
       "2246   51.537424   (51.537424, -0.18806)  \n",
       "5478   51.515186  (51.515186, -0.126813)  \n",
       "10637  51.557120   (51.55712, -0.138863)  \n",
       "10977  51.555408  (51.555408, -0.141802)  \n",
       "11795  51.519146   (51.519146, -0.11946)  \n",
       "11856  51.554226  (51.554226, -0.145585)  \n",
       "12056  51.543451  (51.543451, -0.169763)  \n",
       "12936  51.540245  (51.540245, -0.192552)  \n",
       "13248  51.543163  (51.543163, -0.161664)  \n",
       "16815  51.550377  (51.550377, -0.189987)  \n",
       "18690  51.532058  (51.532058, -0.138479)  \n",
       "18958  51.551587  (51.551587, -0.162101)  \n",
       "19606  51.529527  (51.529527, -0.142959)  \n",
       "20169  51.545886  (51.545886, -0.194897)  \n",
       "20226  51.532073  (51.532073, -0.137573)  \n",
       "21287  51.537139  (51.537139, -0.187075)  \n",
       "22470  51.544363  (51.544363, -0.169957)  \n",
       "23301  51.565562  (51.565562, -0.147845)  \n",
       "23315  51.569567  (51.569567, -0.143955)  "
      ]
     },
     "execution_count": 177,
     "metadata": {},
     "output_type": "execute_result"
    }
   ],
   "source": [
    "mask = ~trees['Identifier'].isin(Environmental['Identifier'])\n",
    "trees[mask]\n",
    "\n",
    "\n"
   ]
  },
  {
   "cell_type": "code",
   "execution_count": 178,
   "id": "61c81154",
   "metadata": {},
   "outputs": [
    {
     "data": {
      "text/plain": [
       "23"
      ]
     },
     "execution_count": 178,
     "metadata": {},
     "output_type": "execute_result"
    }
   ],
   "source": [
    "Trees_unmatched= trees[mask]\n",
    "Trees_unmatched.shape[0]"
   ]
  },
  {
   "cell_type": "code",
   "execution_count": 179,
   "id": "0d0ac447",
   "metadata": {},
   "outputs": [
    {
     "data": {
      "text/plain": [
       "23444"
      ]
     },
     "execution_count": 179,
     "metadata": {},
     "output_type": "execute_result"
    }
   ],
   "source": [
    "trees.shape[0]"
   ]
  },
  {
   "cell_type": "code",
   "execution_count": 180,
   "id": "059d37ec",
   "metadata": {},
   "outputs": [
    {
     "data": {
      "text/html": [
       "<div>\n",
       "<style scoped>\n",
       "    .dataframe tbody tr th:only-of-type {\n",
       "        vertical-align: middle;\n",
       "    }\n",
       "\n",
       "    .dataframe tbody tr th {\n",
       "        vertical-align: top;\n",
       "    }\n",
       "\n",
       "    .dataframe thead th {\n",
       "        text-align: right;\n",
       "    }\n",
       "</style>\n",
       "<table border=\"1\" class=\"dataframe\">\n",
       "  <thead>\n",
       "    <tr style=\"text-align: right;\">\n",
       "      <th></th>\n",
       "      <th>Identifier</th>\n",
       "      <th>Maturity</th>\n",
       "      <th>Physiological Condition</th>\n",
       "      <th>Tree Set To Be Removed</th>\n",
       "      <th>Removal Reason</th>\n",
       "      <th>Capital Asset Value For Amenity Trees</th>\n",
       "      <th>Carbon Storage In Kilograms</th>\n",
       "      <th>Gross Carbon Sequestration Per Year In Kilograms</th>\n",
       "      <th>Pollution Removal Per Year In Grams</th>\n",
       "    </tr>\n",
       "  </thead>\n",
       "  <tbody>\n",
       "  </tbody>\n",
       "</table>\n",
       "</div>"
      ],
      "text/plain": [
       "Empty DataFrame\n",
       "Columns: [Identifier, Maturity, Physiological Condition, Tree Set To Be Removed, Removal Reason, Capital Asset Value For Amenity Trees, Carbon Storage In Kilograms, Gross Carbon Sequestration Per Year In Kilograms, Pollution Removal Per Year In Grams]\n",
       "Index: []"
      ]
     },
     "execution_count": 180,
     "metadata": {},
     "output_type": "execute_result"
    }
   ],
   "source": [
    "mask = ~Environmental['Identifier'].isin(trees['Identifier'])\n",
    "Environmental[mask]\n",
    "\n",
    "#Shows 0 rows that are unmatched"
   ]
  },
  {
   "cell_type": "code",
   "execution_count": 181,
   "id": "41ecb378",
   "metadata": {},
   "outputs": [],
   "source": [
    "Environmental_unmatched= Environmental[mask]"
   ]
  },
  {
   "cell_type": "code",
   "execution_count": 182,
   "id": "8068cb4c",
   "metadata": {},
   "outputs": [
    {
     "data": {
      "text/plain": [
       "0"
      ]
     },
     "execution_count": 182,
     "metadata": {},
     "output_type": "execute_result"
    }
   ],
   "source": [
    "Environmental_unmatched.shape[0]"
   ]
  },
  {
   "cell_type": "code",
   "execution_count": 183,
   "id": "d4a440da",
   "metadata": {},
   "outputs": [
    {
     "data": {
      "text/html": [
       "<div>\n",
       "<style scoped>\n",
       "    .dataframe tbody tr th:only-of-type {\n",
       "        vertical-align: middle;\n",
       "    }\n",
       "\n",
       "    .dataframe tbody tr th {\n",
       "        vertical-align: top;\n",
       "    }\n",
       "\n",
       "    .dataframe thead th {\n",
       "        text-align: right;\n",
       "    }\n",
       "</style>\n",
       "<table border=\"1\" class=\"dataframe\">\n",
       "  <thead>\n",
       "    <tr style=\"text-align: right;\">\n",
       "      <th></th>\n",
       "      <th>Identifier</th>\n",
       "      <th>Number Of Trees</th>\n",
       "      <th>Site Name</th>\n",
       "      <th>Contract Area</th>\n",
       "      <th>Scientific Name</th>\n",
       "      <th>Inspection Date</th>\n",
       "      <th>Inspection Due Date</th>\n",
       "      <th>Height In Metres</th>\n",
       "      <th>Spread In Metres</th>\n",
       "      <th>Diameter In Centimetres At Breast Height</th>\n",
       "      <th>Ward Code</th>\n",
       "      <th>Ward Name</th>\n",
       "      <th>Easting</th>\n",
       "      <th>Northing</th>\n",
       "      <th>Longitude</th>\n",
       "      <th>Latitude</th>\n",
       "      <th>Location</th>\n",
       "    </tr>\n",
       "  </thead>\n",
       "  <tbody>\n",
       "    <tr>\n",
       "      <th>151</th>\n",
       "      <td>00051832</td>\n",
       "      <td>1.0</td>\n",
       "      <td>ARGYLE WALK</td>\n",
       "      <td>Highways</td>\n",
       "      <td>Sorbus aucuparia 'Streetwise'</td>\n",
       "      <td>2019-02-10</td>\n",
       "      <td>2022/2023</td>\n",
       "      <td>7.0</td>\n",
       "      <td>3.0</td>\n",
       "      <td>12.0</td>\n",
       "      <td>E05000141</td>\n",
       "      <td>King's Cross</td>\n",
       "      <td>530227</td>\n",
       "      <td>182706</td>\n",
       "      <td>-0.124054</td>\n",
       "      <td>51.528257</td>\n",
       "      <td>(51.528257, -0.124054)</td>\n",
       "    </tr>\n",
       "    <tr>\n",
       "      <th>384</th>\n",
       "      <td>00053954</td>\n",
       "      <td>1.0</td>\n",
       "      <td>CHURCHILL ROAD</td>\n",
       "      <td>Highways</td>\n",
       "      <td>Sorbus aucuparia 'Streetwise'</td>\n",
       "      <td>2017-10-07</td>\n",
       "      <td>2020/2021</td>\n",
       "      <td>3.0</td>\n",
       "      <td>2.0</td>\n",
       "      <td>5.0</td>\n",
       "      <td>E05000139</td>\n",
       "      <td>Kentish Town</td>\n",
       "      <td>529007</td>\n",
       "      <td>185975</td>\n",
       "      <td>-0.140440</td>\n",
       "      <td>51.557913</td>\n",
       "      <td>(51.557913, -0.14044)</td>\n",
       "    </tr>\n",
       "    <tr>\n",
       "      <th>495</th>\n",
       "      <td>00047497</td>\n",
       "      <td>1.0</td>\n",
       "      <td>PATSHULL PLACE</td>\n",
       "      <td>Highways</td>\n",
       "      <td>Sorbus aucuparia 'Streetwise'</td>\n",
       "      <td>2017-06-22</td>\n",
       "      <td>2020/2021</td>\n",
       "      <td>5.0</td>\n",
       "      <td>3.0</td>\n",
       "      <td>11.0</td>\n",
       "      <td>E05000131</td>\n",
       "      <td>Cantelowes</td>\n",
       "      <td>529202</td>\n",
       "      <td>184717</td>\n",
       "      <td>-0.138094</td>\n",
       "      <td>51.546569</td>\n",
       "      <td>(51.546569, -0.138094)</td>\n",
       "    </tr>\n",
       "    <tr>\n",
       "      <th>611</th>\n",
       "      <td>00055434</td>\n",
       "      <td>1.0</td>\n",
       "      <td>SHARPLES HALL STREET</td>\n",
       "      <td>Highways</td>\n",
       "      <td>Sorbus aucuparia 'Streetwise'</td>\n",
       "      <td>2019-09-30</td>\n",
       "      <td>2022/2023</td>\n",
       "      <td>2.0</td>\n",
       "      <td>2.0</td>\n",
       "      <td>4.0</td>\n",
       "      <td>E05000130</td>\n",
       "      <td>Camden Town with Primrose Hill</td>\n",
       "      <td>527962</td>\n",
       "      <td>184050</td>\n",
       "      <td>-0.156202</td>\n",
       "      <td>51.540853</td>\n",
       "      <td>(51.540853, -0.156202)</td>\n",
       "    </tr>\n",
       "    <tr>\n",
       "      <th>653</th>\n",
       "      <td>00055289</td>\n",
       "      <td>1.0</td>\n",
       "      <td>QUEEN'S CRESCENT</td>\n",
       "      <td>Highways</td>\n",
       "      <td>Sorbus aucuparia 'Streetwise'</td>\n",
       "      <td>2017-07-08</td>\n",
       "      <td>2020/2021</td>\n",
       "      <td>4.0</td>\n",
       "      <td>1.0</td>\n",
       "      <td>7.0</td>\n",
       "      <td>E05000136</td>\n",
       "      <td>Haverstock</td>\n",
       "      <td>528072</td>\n",
       "      <td>184723</td>\n",
       "      <td>-0.154369</td>\n",
       "      <td>51.546881</td>\n",
       "      <td>(51.546881, -0.154369)</td>\n",
       "    </tr>\n",
       "    <tr>\n",
       "      <th>...</th>\n",
       "      <td>...</td>\n",
       "      <td>...</td>\n",
       "      <td>...</td>\n",
       "      <td>...</td>\n",
       "      <td>...</td>\n",
       "      <td>...</td>\n",
       "      <td>...</td>\n",
       "      <td>...</td>\n",
       "      <td>...</td>\n",
       "      <td>...</td>\n",
       "      <td>...</td>\n",
       "      <td>...</td>\n",
       "      <td>...</td>\n",
       "      <td>...</td>\n",
       "      <td>...</td>\n",
       "      <td>...</td>\n",
       "      <td>...</td>\n",
       "    </tr>\n",
       "    <tr>\n",
       "      <th>21826</th>\n",
       "      <td>00050835</td>\n",
       "      <td>1.0</td>\n",
       "      <td>INGESTRE RD</td>\n",
       "      <td>Highways</td>\n",
       "      <td>Sorbus aucuparia 'Streetwise'</td>\n",
       "      <td>2017-08-18</td>\n",
       "      <td>2020/2021</td>\n",
       "      <td>3.0</td>\n",
       "      <td>1.0</td>\n",
       "      <td>7.0</td>\n",
       "      <td>E05000139</td>\n",
       "      <td>Kentish Town</td>\n",
       "      <td>528962</td>\n",
       "      <td>185826</td>\n",
       "      <td>-0.141137</td>\n",
       "      <td>51.556589</td>\n",
       "      <td>(51.556589, -0.141137)</td>\n",
       "    </tr>\n",
       "    <tr>\n",
       "      <th>22948</th>\n",
       "      <td>00052341</td>\n",
       "      <td>1.0</td>\n",
       "      <td>NEW COMPTON STREET</td>\n",
       "      <td>Highways</td>\n",
       "      <td>Sorbus aucuparia 'Streetwise'</td>\n",
       "      <td>2019-07-08</td>\n",
       "      <td>2022/2023</td>\n",
       "      <td>4.0</td>\n",
       "      <td>3.0</td>\n",
       "      <td>6.0</td>\n",
       "      <td>E05000138</td>\n",
       "      <td>Holborn and Covent Garden</td>\n",
       "      <td>529976</td>\n",
       "      <td>181160</td>\n",
       "      <td>-0.128249</td>\n",
       "      <td>51.514422</td>\n",
       "      <td>(51.514422, -0.128249)</td>\n",
       "    </tr>\n",
       "    <tr>\n",
       "      <th>23266</th>\n",
       "      <td>00048846</td>\n",
       "      <td>1.0</td>\n",
       "      <td>ASMARA ROAD</td>\n",
       "      <td>Highways</td>\n",
       "      <td>Sorbus aucuparia 'Streetwise'</td>\n",
       "      <td>2018-08-28</td>\n",
       "      <td>2021/2022</td>\n",
       "      <td>5.0</td>\n",
       "      <td>3.0</td>\n",
       "      <td>8.0</td>\n",
       "      <td>E05000132</td>\n",
       "      <td>Fortune Green</td>\n",
       "      <td>524568</td>\n",
       "      <td>185347</td>\n",
       "      <td>-0.204661</td>\n",
       "      <td>51.553268</td>\n",
       "      <td>(51.553268, -0.204661)</td>\n",
       "    </tr>\n",
       "    <tr>\n",
       "      <th>23335</th>\n",
       "      <td>00048705</td>\n",
       "      <td>1.0</td>\n",
       "      <td>GOLDINGTON STREET</td>\n",
       "      <td>Highways</td>\n",
       "      <td>Sorbus aucuparia 'Streetwise'</td>\n",
       "      <td>2019-10-23</td>\n",
       "      <td>2022/2023</td>\n",
       "      <td>6.0</td>\n",
       "      <td>2.0</td>\n",
       "      <td>12.0</td>\n",
       "      <td>E05000143</td>\n",
       "      <td>St Pancras and Somers Town</td>\n",
       "      <td>529662</td>\n",
       "      <td>183417</td>\n",
       "      <td>-0.131941</td>\n",
       "      <td>51.534780</td>\n",
       "      <td>(51.53478, -0.131941)</td>\n",
       "    </tr>\n",
       "    <tr>\n",
       "      <th>23372</th>\n",
       "      <td>00031627</td>\n",
       "      <td>1.0</td>\n",
       "      <td>ST. GEORGE THE MARTYR C OF E JMI (E)</td>\n",
       "      <td>Education</td>\n",
       "      <td>Cotoneaster salicifolius</td>\n",
       "      <td>2018-07-23</td>\n",
       "      <td>2021/2022</td>\n",
       "      <td>5.0</td>\n",
       "      <td>5.0</td>\n",
       "      <td>8.0</td>\n",
       "      <td>E05000138</td>\n",
       "      <td>Holborn and Covent Garden</td>\n",
       "      <td>530742</td>\n",
       "      <td>182119</td>\n",
       "      <td>-0.116856</td>\n",
       "      <td>51.522865</td>\n",
       "      <td>(51.522865, -0.116856)</td>\n",
       "    </tr>\n",
       "  </tbody>\n",
       "</table>\n",
       "<p>76 rows × 17 columns</p>\n",
       "</div>"
      ],
      "text/plain": [
       "      Identifier  Number Of Trees                             Site Name  \\\n",
       "151     00051832              1.0                           ARGYLE WALK   \n",
       "384     00053954              1.0                        CHURCHILL ROAD   \n",
       "495     00047497              1.0                        PATSHULL PLACE   \n",
       "611     00055434              1.0                  SHARPLES HALL STREET   \n",
       "653     00055289              1.0                      QUEEN'S CRESCENT   \n",
       "...          ...              ...                                   ...   \n",
       "21826   00050835              1.0                           INGESTRE RD   \n",
       "22948   00052341              1.0                    NEW COMPTON STREET   \n",
       "23266   00048846              1.0                           ASMARA ROAD   \n",
       "23335   00048705              1.0                     GOLDINGTON STREET   \n",
       "23372   00031627              1.0  ST. GEORGE THE MARTYR C OF E JMI (E)   \n",
       "\n",
       "      Contract Area                Scientific Name Inspection Date  \\\n",
       "151        Highways  Sorbus aucuparia 'Streetwise'      2019-02-10   \n",
       "384        Highways  Sorbus aucuparia 'Streetwise'      2017-10-07   \n",
       "495        Highways  Sorbus aucuparia 'Streetwise'      2017-06-22   \n",
       "611        Highways  Sorbus aucuparia 'Streetwise'      2019-09-30   \n",
       "653        Highways  Sorbus aucuparia 'Streetwise'      2017-07-08   \n",
       "...             ...                            ...             ...   \n",
       "21826      Highways  Sorbus aucuparia 'Streetwise'      2017-08-18   \n",
       "22948      Highways  Sorbus aucuparia 'Streetwise'      2019-07-08   \n",
       "23266      Highways  Sorbus aucuparia 'Streetwise'      2018-08-28   \n",
       "23335      Highways  Sorbus aucuparia 'Streetwise'      2019-10-23   \n",
       "23372     Education       Cotoneaster salicifolius      2018-07-23   \n",
       "\n",
       "      Inspection Due Date  Height In Metres  Spread In Metres  \\\n",
       "151             2022/2023               7.0               3.0   \n",
       "384             2020/2021               3.0               2.0   \n",
       "495             2020/2021               5.0               3.0   \n",
       "611             2022/2023               2.0               2.0   \n",
       "653             2020/2021               4.0               1.0   \n",
       "...                   ...               ...               ...   \n",
       "21826           2020/2021               3.0               1.0   \n",
       "22948           2022/2023               4.0               3.0   \n",
       "23266           2021/2022               5.0               3.0   \n",
       "23335           2022/2023               6.0               2.0   \n",
       "23372           2021/2022               5.0               5.0   \n",
       "\n",
       "       Diameter In Centimetres At Breast Height  Ward Code  \\\n",
       "151                                        12.0  E05000141   \n",
       "384                                         5.0  E05000139   \n",
       "495                                        11.0  E05000131   \n",
       "611                                         4.0  E05000130   \n",
       "653                                         7.0  E05000136   \n",
       "...                                         ...        ...   \n",
       "21826                                       7.0  E05000139   \n",
       "22948                                       6.0  E05000138   \n",
       "23266                                       8.0  E05000132   \n",
       "23335                                      12.0  E05000143   \n",
       "23372                                       8.0  E05000138   \n",
       "\n",
       "                            Ward Name  Easting  Northing  Longitude  \\\n",
       "151                      King's Cross   530227    182706  -0.124054   \n",
       "384                      Kentish Town   529007    185975  -0.140440   \n",
       "495                        Cantelowes   529202    184717  -0.138094   \n",
       "611    Camden Town with Primrose Hill   527962    184050  -0.156202   \n",
       "653                        Haverstock   528072    184723  -0.154369   \n",
       "...                               ...      ...       ...        ...   \n",
       "21826                    Kentish Town   528962    185826  -0.141137   \n",
       "22948       Holborn and Covent Garden   529976    181160  -0.128249   \n",
       "23266                   Fortune Green   524568    185347  -0.204661   \n",
       "23335      St Pancras and Somers Town   529662    183417  -0.131941   \n",
       "23372       Holborn and Covent Garden   530742    182119  -0.116856   \n",
       "\n",
       "        Latitude                Location  \n",
       "151    51.528257  (51.528257, -0.124054)  \n",
       "384    51.557913   (51.557913, -0.14044)  \n",
       "495    51.546569  (51.546569, -0.138094)  \n",
       "611    51.540853  (51.540853, -0.156202)  \n",
       "653    51.546881  (51.546881, -0.154369)  \n",
       "...          ...                     ...  \n",
       "21826  51.556589  (51.556589, -0.141137)  \n",
       "22948  51.514422  (51.514422, -0.128249)  \n",
       "23266  51.553268  (51.553268, -0.204661)  \n",
       "23335  51.534780   (51.53478, -0.131941)  \n",
       "23372  51.522865  (51.522865, -0.116856)  \n",
       "\n",
       "[76 rows x 17 columns]"
      ]
     },
     "execution_count": 183,
     "metadata": {},
     "output_type": "execute_result"
    }
   ],
   "source": [
    "mask = ~trees['Scientific Name'].isin(Common_and_Scientific_Names['Scientific Name'])\n",
    "trees[mask] #76 is non-matching "
   ]
  },
  {
   "cell_type": "code",
   "execution_count": 184,
   "id": "62eb9019",
   "metadata": {},
   "outputs": [],
   "source": [
    "Scientificname_unmatched= trees[mask]"
   ]
  },
  {
   "cell_type": "code",
   "execution_count": 185,
   "id": "f9571f1d",
   "metadata": {},
   "outputs": [
    {
     "data": {
      "text/plain": [
       "76"
      ]
     },
     "execution_count": 185,
     "metadata": {},
     "output_type": "execute_result"
    }
   ],
   "source": [
    "Scientificname_unmatched.shape[0] #76 rows are unmatched "
   ]
  },
  {
   "cell_type": "code",
   "execution_count": null,
   "id": "45ff73cf",
   "metadata": {},
   "outputs": [],
   "source": [
    "#Observations "
   ]
  }
 ],
 "metadata": {
  "kernelspec": {
   "display_name": "Python 3 (ipykernel)",
   "language": "python",
   "name": "python3"
  },
  "language_info": {
   "codemirror_mode": {
    "name": "ipython",
    "version": 3
   },
   "file_extension": ".py",
   "mimetype": "text/x-python",
   "name": "python",
   "nbconvert_exporter": "python",
   "pygments_lexer": "ipython3",
   "version": "3.11.5"
  }
 },
 "nbformat": 4,
 "nbformat_minor": 5
}
